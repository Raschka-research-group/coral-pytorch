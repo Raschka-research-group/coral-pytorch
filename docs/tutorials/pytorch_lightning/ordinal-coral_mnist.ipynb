{
 "cells": [
  {
   "cell_type": "code",
   "execution_count": 1,
   "id": "fdb1cc12",
   "metadata": {},
   "outputs": [
    {
     "name": "stdout",
     "output_type": "stream",
     "text": [
      "torch            : 1.10.1\n",
      "pytorch_lightning: 1.5.9\n",
      "torchmetrics     : 0.7.0\n",
      "matplotlib       : 3.5.1\n",
      "\n"
     ]
    }
   ],
   "source": [
    "%load_ext watermark\n",
    "%watermark -p torch,pytorch_lightning,torchmetrics,matplotlib"
   ]
  },
  {
   "cell_type": "code",
   "execution_count": 2,
   "id": "12e764e2",
   "metadata": {},
   "outputs": [],
   "source": [
    "%load_ext pycodestyle_magic\n",
    "%flake8_on --ignore W291,W293"
   ]
  },
  {
   "cell_type": "markdown",
   "id": "ccf0c90f",
   "metadata": {},
   "source": [
    "<a href=\"https://pytorch.org\"><img src=\"https://raw.githubusercontent.com/pytorch/pytorch/master/docs/source/_static/img/pytorch-logo-dark.svg\" width=\"90\"/></a> &nbsp; &nbsp;&nbsp;&nbsp;<a href=\"https://www.pytorchlightning.ai\"><img src=\"https://raw.githubusercontent.com/PyTorchLightning/pytorch-lightning/master/docs/source/_static/images/logo.svg\" width=\"150\"/></a>\n",
    "\n",
    "# A Convolutional Neural Net for Ordinal Regression using CORAL -- MNIST Dataset"
   ]
  },
  {
   "cell_type": "markdown",
   "id": "323ca98d",
   "metadata": {},
   "source": [
    "In this tutorial, we implement a convolutional neural network for ordinal regression based on the CORAL method. To learn more about CORAL, please have a look at our paper:\n",
    "\n",
    "- Wenzhi Cao, Vahid Mirjalili, and Sebastian Raschka (2020): \n",
    "[Rank Consistent Ordinal Regression for Neural Networks with Application to Age Estimation](https://www.sciencedirect.com/science/article/pii/S016786552030413X). \n",
    "Pattern Recognition Letters. 140, 325-331\n",
    "\n",
    "\n",
    "Please note that **MNIST is not an ordinal dataset**. The reason why we use MNIST in this tutorial is that it is included in the PyTorch's `torchvision` library and is thus easy to work with, since it doesn't require extra data downloading and preprocessing steps."
   ]
  },
  {
   "cell_type": "markdown",
   "id": "21804203",
   "metadata": {},
   "source": [
    "## General settings and hyperparameters"
   ]
  },
  {
   "cell_type": "markdown",
   "id": "f6296799",
   "metadata": {},
   "source": [
    "- Here, we specify some general hyperparameter values and general settings\n",
    "- Note that for small datatsets, it is not necessary and better not to use multiple workers as it can sometimes cause issues with too many open files in PyTorch. So, if you have problems with the data loader later, try setting `NUM_WORKERS = 0` instead."
   ]
  },
  {
   "cell_type": "code",
   "execution_count": 3,
   "id": "67226ffb",
   "metadata": {},
   "outputs": [],
   "source": [
    "BATCH_SIZE = 256\n",
    "NUM_EPOCHS = 20\n",
    "LEARNING_RATE = 0.005\n",
    "NUM_WORKERS = 4"
   ]
  },
  {
   "cell_type": "markdown",
   "id": "d643f5bd-e2cb-4065-b7c7-b55c15021bc2",
   "metadata": {
    "tags": []
   },
   "source": [
    "## Converting a regular classifier into a CORAL ordinal regression model"
   ]
  },
  {
   "cell_type": "markdown",
   "id": "f858b851-3b68-457c-93c1-2276ef0ff2ce",
   "metadata": {},
   "source": [
    "Changing a classifier to a CORAL model for ordinal regression is actually really simple and only requires a few changes:\n",
    "\n",
    "**1)**\n",
    "We replace the output layer  \n",
    "\n",
    "```python\n",
    "output_layer = torch.nn.Linear(hidden_units[-1], num_classes)\n",
    "```\n",
    "\n",
    "by a CORAL layer (available through `coral_pytorch`):\n",
    "\n",
    "```python\n",
    "output_layer = CoralLayer(size_in=hidden_units[-1], num_classes=num_classes)`\n",
    "```\n",
    "\n",
    "**2)**\n",
    "\n",
    "Convert the integer class labels into the extended binary label format using the `levels_from_labelbatch` provided via `coral_pytorch`:\n",
    "\n",
    "```python\n",
    "levels = levels_from_labelbatch(class_labels, \n",
    "                                num_classes=num_classes)\n",
    "```\n",
    "\n",
    "**3)** \n",
    "\n",
    "Swap the cross entropy loss from PyTorch,\n",
    "\n",
    "```python\n",
    "torch.nn.functional.cross_entropy(logits, true_labels)\n",
    "```\n",
    "\n",
    "with the CORAL loss (also provided via `coral_pytorch`):\n",
    "\n",
    "```python\n",
    "loss = coral_loss(logits, levels)\n",
    "```\n",
    "\n",
    "**4)**\n",
    "\n",
    "In a regular classifier, we usually obtain the predicted class labels as follows:\n",
    "\n",
    "```python\n",
    "predicted_labels = torch.argmax(logits, dim=1)\n",
    "```\n",
    "\n",
    "Replace this with the following code to convert the predicted probabilities into the predicted labels:\n",
    "\n",
    "```python\n",
    "predicted_labels = proba_to_label(probas)\n",
    "```"
   ]
  },
  {
   "cell_type": "markdown",
   "id": "0df86b9a",
   "metadata": {},
   "source": [
    "## Implementing a `ConvNet` using PyTorch Lightning's `LightningModule`"
   ]
  },
  {
   "cell_type": "markdown",
   "id": "3f528744",
   "metadata": {},
   "source": [
    "- In this section, we set up the main model architecture using the `LightningModule` from PyTorch Lightning.\n",
    "- We start with defining our convolutional neural network `ConvNet` model in pure PyTorch, and then we use it in the `LightningModule` to get all the extra benefits that PyTorch Lightning provides.\n",
    "- Given a multilayer perceptron classifier with cross-entropy loss, it is very easy to change this classifier into a ordinal regression model using CORAL as explained in the previous section. In the code example below, we use \"1) the `CoralLayer`\"."
   ]
  },
  {
   "cell_type": "code",
   "execution_count": 4,
   "id": "fa5b7890",
   "metadata": {},
   "outputs": [],
   "source": [
    "import torch\n",
    "from coral_pytorch.layers import CoralLayer\n",
    "\n",
    "\n",
    "# Regular PyTorch Module\n",
    "class ConvNet(torch.nn.Module):\n",
    "    def __init__(self, in_channels, num_classes):\n",
    "        super().__init__()\n",
    "\n",
    "        # num_classes is used by the corn loss function\n",
    "        self.num_classes = num_classes\n",
    "\n",
    "        # Initialize CNN layers\n",
    "        all_layers = [\n",
    "            torch.nn.Conv2d(in_channels=in_channels, out_channels=3, \n",
    "                            kernel_size=(3, 3), stride=(1, 1), \n",
    "                            padding=1),\n",
    "            torch.nn.MaxPool2d(kernel_size=(2, 2),  stride=(2, 2)),\n",
    "            torch.nn.Conv2d(in_channels=3, out_channels=6, \n",
    "                            kernel_size=(3, 3), stride=(1, 1), \n",
    "                            padding=1),\n",
    "            torch.nn.MaxPool2d(kernel_size=(2, 2),  stride=(2, 2)),\n",
    "            torch.nn.Flatten()\n",
    "        ]\n",
    "\n",
    "        # CORAL: output layer -------------------------------------------\n",
    "        # Regular classifier would use the following output layer:\n",
    "        # output_layer = torch.nn.Linear(294, num_classes)\n",
    "        \n",
    "        # We replace it by the CORAL layer:\n",
    "        output_layer = CoralLayer(size_in=294,\n",
    "                                  num_classes=num_classes)\n",
    "        # ----------------------------------------------------------------\n",
    "        \n",
    "        all_layers.append(output_layer)\n",
    "        self.model = torch.nn.Sequential(*all_layers)\n",
    "        \n",
    "    def forward(self, x):\n",
    "        x = self.model(x)\n",
    "        return x"
   ]
  },
  {
   "cell_type": "markdown",
   "id": "5f6eeb1a",
   "metadata": {},
   "source": [
    "- In our `LightningModule` we use loggers to track mean absolute errors for both the training and validation set during training; this allows us to select the best model based on validation set performance later.\n",
    "- Note that we make changes 2) (`levels_from_labelbatch`), 3) (`coral_loss`), and 4) (`proba_to_label`) to implement a CORAL model instead of a regular classifier:"
   ]
  },
  {
   "cell_type": "code",
   "execution_count": 5,
   "id": "85b0030a",
   "metadata": {},
   "outputs": [],
   "source": [
    "from coral_pytorch.losses import coral_loss\n",
    "from coral_pytorch.dataset import levels_from_labelbatch\n",
    "from coral_pytorch.dataset import proba_to_label\n",
    "\n",
    "import pytorch_lightning as pl\n",
    "import torchmetrics\n",
    "\n",
    "\n",
    "# LightningModule that receives a PyTorch model as input\n",
    "class LightningCNN(pl.LightningModule):\n",
    "    def __init__(self, model):\n",
    "        super().__init__()\n",
    "\n",
    "        # The inherited PyTorch module\n",
    "        self.model = model\n",
    "\n",
    "        # Save hyperparameters to the log directory\n",
    "        self.save_hyperparameters()\n",
    "\n",
    "        # Set up attributes for computing the MAE\n",
    "        self.train_mae = torchmetrics.MeanAbsoluteError()\n",
    "        self.valid_mae = torchmetrics.MeanAbsoluteError()\n",
    "        self.test_mae = torchmetrics.MeanAbsoluteError()\n",
    "        \n",
    "    # Defining the forward method is only necessary \n",
    "    # if you want to use a Trainer's .predict() method (optional)\n",
    "    def forward(self, x):\n",
    "        return self.model(x)\n",
    "        \n",
    "    # A common forward step to compute the loss and labels\n",
    "    # this is used for training, validation, and testing below\n",
    "    def _shared_step(self, batch):\n",
    "        features, true_labels = batch\n",
    "        logits = self(features)\n",
    "\n",
    "        # Convert class labels for CORAL ------------------------\n",
    "        levels = levels_from_labelbatch(\n",
    "            true_labels, num_classes=self.model.num_classes)\n",
    "        # -------------------------------------------------------\n",
    "\n",
    "        logits = self(features)\n",
    "\n",
    "        # CORAL Loss --------------------------------------------\n",
    "        # A regular classifier uses:\n",
    "        # loss = torch.nn.functional.cross_entropy(logits, true_labels)\n",
    "        loss = coral_loss(logits, levels)\n",
    "        # -------------------------------------------------------\n",
    "\n",
    "        # CORAL Prediction to label -----------------------------\n",
    "        # A regular classifier uses:\n",
    "        # predicted_labels = torch.argmax(logits, dim=1)\n",
    "        probas = torch.sigmoid(logits)\n",
    "        predicted_labels = proba_to_label(probas)\n",
    "        # -------------------------------------------------------\n",
    "        return loss, true_labels, predicted_labels\n",
    "\n",
    "    def training_step(self, batch, batch_idx):\n",
    "        loss, true_labels, predicted_labels = self._shared_step(batch)\n",
    "        self.log(\"train_loss\", loss)\n",
    "        self.train_mae.update(predicted_labels, true_labels)\n",
    "        self.log(\"train_mae\", self.train_mae, on_epoch=True, on_step=False)\n",
    "        return loss\n",
    "\n",
    "    def validation_step(self, batch, batch_idx):\n",
    "        loss, true_labels, predicted_labels = self._shared_step(batch)\n",
    "        self.log(\"valid_loss\", loss)\n",
    "        self.valid_mae.update(predicted_labels, true_labels)\n",
    "        self.log(\"valid_mae\", self.valid_mae,\n",
    "                 on_epoch=True, on_step=False, prog_bar=True)\n",
    "\n",
    "    def test_step(self, batch, batch_idx):\n",
    "        loss, true_labels, predicted_labels = self._shared_step(batch)\n",
    "        self.test_mae.update(predicted_labels, true_labels)\n",
    "        self.log(\"test_mae\", self.test_mae, on_epoch=True, on_step=False)\n",
    "\n",
    "    def configure_optimizers(self):\n",
    "        optimizer = torch.optim.Adam(self.parameters(), lr=LEARNING_RATE)\n",
    "        return optimizer"
   ]
  },
  {
   "cell_type": "markdown",
   "id": "93f7ee0a",
   "metadata": {},
   "source": [
    "## Setting up the dataset"
   ]
  },
  {
   "cell_type": "markdown",
   "id": "d681d3fa",
   "metadata": {},
   "source": [
    "- In this section, we are going to set up our dataset.\n",
    "- Please note that **MNIST is not an ordinal dataset**. The reason why we use MNIST in this tutorial is that it is included in the PyTorch's `torchvision` library and is thus easy to work with, since it doesn't require extra data downloading and preprocessing steps."
   ]
  },
  {
   "cell_type": "markdown",
   "id": "3f37e05c",
   "metadata": {},
   "source": [
    "### Inspecting the dataset"
   ]
  },
  {
   "cell_type": "code",
   "execution_count": 6,
   "id": "f0113f23",
   "metadata": {},
   "outputs": [],
   "source": [
    "import torch\n",
    "\n",
    "from torchvision import datasets\n",
    "from torchvision import transforms\n",
    "from torch.utils.data import DataLoader\n",
    "\n",
    "\n",
    "train_dataset = datasets.MNIST(root='../data', \n",
    "                               train=True, \n",
    "                               transform=transforms.ToTensor(),\n",
    "                               download=True)\n",
    "\n",
    "train_loader = DataLoader(dataset=train_dataset, \n",
    "                          batch_size=BATCH_SIZE, \n",
    "                          num_workers=NUM_WORKERS,\n",
    "                          drop_last=True,\n",
    "                          shuffle=True)\n",
    "\n",
    "test_dataset = datasets.MNIST(root='../data', \n",
    "                              train=False,\n",
    "                              transform=transforms.ToTensor())\n",
    "\n",
    "test_loader = DataLoader(dataset=test_dataset, \n",
    "                         batch_size=BATCH_SIZE,\n",
    "                         num_workers=NUM_WORKERS,\n",
    "                         drop_last=False,\n",
    "                         shuffle=False)\n",
    "\n",
    "# Checking the dataset\n",
    "all_train_labels = []\n",
    "all_test_labels = []\n",
    "\n",
    "for images, labels in train_loader:  \n",
    "    all_train_labels.append(labels)\n",
    "all_train_labels = torch.cat(all_train_labels)\n",
    "    \n",
    "for images, labels in test_loader:  \n",
    "    all_test_labels.append(labels)\n",
    "all_test_labels = torch.cat(all_test_labels)"
   ]
  },
  {
   "cell_type": "code",
   "execution_count": 7,
   "id": "3f4ffc5c",
   "metadata": {},
   "outputs": [
    {
     "name": "stdout",
     "output_type": "stream",
     "text": [
      "Training labels: tensor([0, 1, 2, 3, 4, 5, 6, 7, 8, 9])\n",
      "Training label distribution: tensor([5915, 6731, 5945, 6123, 5829, 5415, 5910, 6257, 5840, 5939])\n",
      "\n",
      "Test labels: tensor([0, 1, 2, 3, 4, 5, 6, 7, 8, 9])\n",
      "Test label distribution: tensor([ 980, 1135, 1032, 1010,  982,  892,  958, 1028,  974, 1009])\n"
     ]
    }
   ],
   "source": [
    "print('Training labels:', torch.unique(all_train_labels))\n",
    "print('Training label distribution:', torch.bincount(all_train_labels))\n",
    "\n",
    "print('\\nTest labels:', torch.unique(all_test_labels))\n",
    "print('Test label distribution:', torch.bincount(all_test_labels))"
   ]
  },
  {
   "cell_type": "markdown",
   "id": "4d8e8f87",
   "metadata": {},
   "source": [
    "- Above, we can see that the dataset consists of 8 features, and there are 998 examples in total.\n",
    "- The labels are in range from 1 (weakest) to 5 (strongest), and we normalize them to start at zero (hence, the normalized labels are in the range 0 to 4). \n",
    "- Notice also that the dataset is quite imbalanced."
   ]
  },
  {
   "cell_type": "markdown",
   "id": "4b95b8a1",
   "metadata": {},
   "source": [
    "### Performance baseline"
   ]
  },
  {
   "cell_type": "markdown",
   "id": "605e0605",
   "metadata": {},
   "source": [
    "- Especially for imbalanced datasets, it's quite useful to compute a performance baseline.\n",
    "- In classification contexts, a useful baseline is to compute the accuracy for a scenario where the model always predicts the majority class -- you want your model to be better than that!\n",
    "- Note that if you are intersted in a single number that minimized the dataset mean squared error (MSE), that's the mean; similary, the median is a number that minimzes the mean absolute error (MAE).\n",
    "- So, if we use the mean absolute error, $\\mathrm{MAE}=\\frac{1}{N} \\sum_{i=1}^{N}\\left|y_{i}-\\hat{y}_{i}\\right|$, to evaluate the model, it is useful to compute the MAE pretending the predicted label is always the median:"
   ]
  },
  {
   "cell_type": "code",
   "execution_count": 8,
   "id": "625dd750",
   "metadata": {},
   "outputs": [
    {
     "name": "stdout",
     "output_type": "stream",
     "text": [
      "Baseline MAE: 2.52\n"
     ]
    }
   ],
   "source": [
    "all_test_labels = all_test_labels.float()\n",
    "avg_prediction = torch.median(all_test_labels)  # median minimizes MAE\n",
    "baseline_mae = torch.mean(torch.abs(all_test_labels - avg_prediction))\n",
    "print(f'Baseline MAE: {baseline_mae:.2f}')"
   ]
  },
  {
   "cell_type": "markdown",
   "id": "0dea2471",
   "metadata": {},
   "source": [
    "- In other words, a model that would always predict the dataset median would achieve a MAE of 2.52. A model that has an MAE of > 2.52 is certainly a bad model."
   ]
  },
  {
   "cell_type": "markdown",
   "id": "cf45a1bf",
   "metadata": {},
   "source": [
    "### Setting up a `DataModule`"
   ]
  },
  {
   "cell_type": "markdown",
   "id": "5383c473",
   "metadata": {},
   "source": [
    "- There are three main ways we can prepare the dataset for Lightning. We can\n",
    "  1. make the dataset part of the model;\n",
    "  2. set up the data loaders as usual and feed them to the fit method of a Lightning Trainer -- the Trainer is introduced in the next subsection;\n",
    "  3. create a LightningDataModule.\n",
    "- Here, we are going to use approach 3, which is the most organized approach. The `LightningDataModule` consists of several self-explanatory methods as we can see below:\n"
   ]
  },
  {
   "cell_type": "code",
   "execution_count": 9,
   "id": "56b510ae",
   "metadata": {},
   "outputs": [],
   "source": [
    "import os\n",
    "\n",
    "from torch.utils.data.dataset import random_split\n",
    "from torch.utils.data import DataLoader\n",
    "\n",
    "\n",
    "class DataModule(pl.LightningDataModule):\n",
    "    def __init__(self, data_path='./'):\n",
    "        super().__init__()\n",
    "        self.data_path = data_path\n",
    "        \n",
    "    def prepare_data(self):\n",
    "        datasets.MNIST(root=self.data_path,\n",
    "                       download=True)\n",
    "        return\n",
    "\n",
    "    def setup(self, stage=None):\n",
    "        # Note transforms.ToTensor() scales input images\n",
    "        # to 0-1 range\n",
    "        train = datasets.MNIST(root=self.data_path, \n",
    "                               train=True, \n",
    "                               transform=transforms.ToTensor(),\n",
    "                               download=False)\n",
    "\n",
    "        self.test = datasets.MNIST(root=self.data_path, \n",
    "                                   train=False, \n",
    "                                   transform=transforms.ToTensor(),\n",
    "                                   download=False)\n",
    "\n",
    "        self.train, self.valid = random_split(train, lengths=[55000, 5000])\n",
    "\n",
    "    def train_dataloader(self):\n",
    "        train_loader = DataLoader(dataset=self.train, \n",
    "                                  batch_size=BATCH_SIZE, \n",
    "                                  drop_last=True,\n",
    "                                  shuffle=True,\n",
    "                                  num_workers=NUM_WORKERS)\n",
    "        return train_loader\n",
    "\n",
    "    def val_dataloader(self):\n",
    "        valid_loader = DataLoader(dataset=self.valid, \n",
    "                                  batch_size=BATCH_SIZE, \n",
    "                                  drop_last=False,\n",
    "                                  shuffle=False,\n",
    "                                  num_workers=NUM_WORKERS)\n",
    "        return valid_loader\n",
    "\n",
    "    def test_dataloader(self):\n",
    "        test_loader = DataLoader(dataset=self.test, \n",
    "                                 batch_size=BATCH_SIZE, \n",
    "                                 drop_last=False,\n",
    "                                 shuffle=False,\n",
    "                                 num_workers=NUM_WORKERS)\n",
    "        return test_loader"
   ]
  },
  {
   "cell_type": "markdown",
   "id": "8a1f3fe0",
   "metadata": {},
   "source": [
    "- Note that the `prepare_data` method is usually used for steps that only need to be executed once, for example, downloading the dataset; the `setup` method defines the the dataset loading -- if you run your code in a distributed setting, this will be called on each node / GPU. \n",
    "- Next, lets initialize the `DataModule`; we use a random seed for reproducibility (so that the data set is shuffled the same way when we re-execute this code):"
   ]
  },
  {
   "cell_type": "code",
   "execution_count": 10,
   "id": "7ce901e5",
   "metadata": {},
   "outputs": [],
   "source": [
    "torch.manual_seed(1) \n",
    "data_module = DataModule(data_path='../data')"
   ]
  },
  {
   "cell_type": "markdown",
   "id": "9c89cc25",
   "metadata": {},
   "source": [
    "## Training the model using the PyTorch Lightning Trainer class"
   ]
  },
  {
   "cell_type": "markdown",
   "id": "3dc0b9e7",
   "metadata": {},
   "source": [
    "- Next, we initialize our CNN (`ConvNet`) model.\n",
    "- Also, we define a call back so that we can obtain the model with the best validation set performance after training.\n",
    "- PyTorch Lightning offers [many advanced logging services](https://pytorch-lightning.readthedocs.io/en/latest/extensions/logging.html) like Weights & Biases. Here, we will keep things simple and use the `CSVLogger`:"
   ]
  },
  {
   "cell_type": "code",
   "execution_count": 11,
   "id": "667fc411",
   "metadata": {},
   "outputs": [],
   "source": [
    "from pytorch_lightning.callbacks import ModelCheckpoint\n",
    "from pytorch_lightning.loggers import CSVLogger\n",
    "\n",
    "\n",
    "pytorch_model = ConvNet(\n",
    "    in_channels=1,\n",
    "    num_classes=torch.unique(all_test_labels).shape[0])\n",
    "\n",
    "lightning_model = LightningCNN(pytorch_model)\n",
    "\n",
    "callbacks = [ModelCheckpoint(\n",
    "    save_top_k=1, mode='min', monitor=\"valid_mae\")]  # save top 1 model \n",
    "logger = CSVLogger(save_dir=\"logs/\", name=\"cnn-coral-mnist\")"
   ]
  },
  {
   "cell_type": "markdown",
   "id": "13a8936c",
   "metadata": {},
   "source": [
    "- Now it's time to train our model:"
   ]
  },
  {
   "cell_type": "code",
   "execution_count": 12,
   "id": "19b1e222",
   "metadata": {},
   "outputs": [
    {
     "name": "stderr",
     "output_type": "stream",
     "text": [
      "GPU available: False, used: False\n",
      "TPU available: False, using: 0 TPU cores\n",
      "IPU available: False, using: 0 IPUs\n",
      "\n",
      "  | Name      | Type              | Params\n",
      "------------------------------------------------\n",
      "0 | model     | ConvNet           | 501   \n",
      "1 | train_mae | MeanAbsoluteError | 0     \n",
      "2 | valid_mae | MeanAbsoluteError | 0     \n",
      "3 | test_mae  | MeanAbsoluteError | 0     \n",
      "------------------------------------------------\n",
      "501       Trainable params\n",
      "0         Non-trainable params\n",
      "501       Total params\n",
      "0.002     Total estimated model params size (MB)\n"
     ]
    },
    {
     "name": "stdout",
     "output_type": "stream",
     "text": [
      "Epoch 0:  91%|██████████▉ | 214/234 [00:09<00:00, 22.18it/s, loss=3.07, v_num=0]\n",
      "Validating: 0it [00:00, ?it/s]\u001b[A\n",
      "Validating:   0%|                                        | 0/20 [00:00<?, ?it/s]\u001b[A\n",
      "Epoch 0:  93%|███████████▏| 217/234 [00:10<00:00, 21.05it/s, loss=3.07, v_num=0]\u001b[A\n",
      "Epoch 0:  98%|███████████▋| 229/234 [00:10<00:00, 21.98it/s, loss=3.07, v_num=0]\u001b[A\n",
      "Epoch 0: 100%|█| 234/234 [00:10<00:00, 21.95it/s, loss=3.07, v_num=0, valid_mae=\u001b[A\n",
      "Epoch 1:  91%|▉| 214/234 [00:09<00:00, 22.87it/s, loss=2.62, v_num=0, valid_mae=\u001b[A\n",
      "Validating: 0it [00:00, ?it/s]\u001b[A\n",
      "Validating:   0%|                                        | 0/20 [00:00<?, ?it/s]\u001b[A\n",
      "Epoch 1:  92%|▉| 216/234 [00:09<00:00, 21.60it/s, loss=2.62, v_num=0, valid_mae=\u001b[A\n",
      "Epoch 1:  97%|▉| 228/234 [00:10<00:00, 22.55it/s, loss=2.62, v_num=0, valid_mae=\u001b[A\n",
      "Epoch 1: 100%|█| 234/234 [00:10<00:00, 22.58it/s, loss=2.62, v_num=0, valid_mae=\u001b[A\n",
      "Epoch 2:  91%|▉| 214/234 [00:09<00:00, 21.60it/s, loss=2.4, v_num=0, valid_mae=1\u001b[A\n",
      "Validating: 0it [00:00, ?it/s]\u001b[A\n",
      "Validating:   0%|                                        | 0/20 [00:00<?, ?it/s]\u001b[A\n",
      "Epoch 2:  92%|▉| 216/234 [00:10<00:00, 20.22it/s, loss=2.4, v_num=0, valid_mae=1\u001b[A\n",
      "Epoch 2:  97%|▉| 228/234 [00:10<00:00, 21.12it/s, loss=2.4, v_num=0, valid_mae=1\u001b[A\n",
      "Epoch 2: 100%|█| 234/234 [00:11<00:00, 21.18it/s, loss=2.4, v_num=0, valid_mae=0\u001b[A\n",
      "Epoch 3:  91%|▉| 214/234 [00:09<00:00, 22.02it/s, loss=2.24, v_num=0, valid_mae=\u001b[A\n",
      "Validating: 0it [00:00, ?it/s]\u001b[A\n",
      "Validating:   0%|                                        | 0/20 [00:00<?, ?it/s]\u001b[A\n",
      "Epoch 3:  92%|▉| 216/234 [00:10<00:00, 20.76it/s, loss=2.24, v_num=0, valid_mae=\u001b[A\n",
      "Epoch 3:  97%|▉| 228/234 [00:10<00:00, 21.68it/s, loss=2.24, v_num=0, valid_mae=\u001b[A\n",
      "Epoch 3: 100%|█| 234/234 [00:10<00:00, 21.72it/s, loss=2.24, v_num=0, valid_mae=\u001b[A\n",
      "Epoch 4:  91%|▉| 214/234 [00:09<00:00, 21.92it/s, loss=2.17, v_num=0, valid_mae=\u001b[A\n",
      "Validating: 0it [00:00, ?it/s]\u001b[A\n",
      "Validating:   0%|                                        | 0/20 [00:00<?, ?it/s]\u001b[A\n",
      "Epoch 4:  92%|▉| 216/234 [00:10<00:00, 20.72it/s, loss=2.17, v_num=0, valid_mae=\u001b[A\n",
      "Epoch 4:  97%|▉| 228/234 [00:10<00:00, 21.65it/s, loss=2.17, v_num=0, valid_mae=\u001b[A\n",
      "Epoch 4: 100%|█| 234/234 [00:10<00:00, 21.69it/s, loss=2.17, v_num=0, valid_mae=\u001b[A\n",
      "Epoch 5:  91%|▉| 214/234 [00:09<00:00, 22.03it/s, loss=2.13, v_num=0, valid_mae=\u001b[A\n",
      "Validating: 0it [00:00, ?it/s]\u001b[A\n",
      "Validating:   0%|                                        | 0/20 [00:00<?, ?it/s]\u001b[A\n",
      "Epoch 5:  92%|▉| 216/234 [00:10<00:00, 20.82it/s, loss=2.13, v_num=0, valid_mae=\u001b[A\n",
      "Epoch 5:  97%|▉| 228/234 [00:10<00:00, 21.75it/s, loss=2.13, v_num=0, valid_mae=\u001b[A\n",
      "Epoch 5: 100%|█| 234/234 [00:10<00:00, 21.80it/s, loss=2.13, v_num=0, valid_mae=\u001b[A\n",
      "Epoch 6:  91%|▉| 214/234 [00:09<00:00, 21.85it/s, loss=2.04, v_num=0, valid_mae=\u001b[A\n",
      "Validating: 0it [00:00, ?it/s]\u001b[A\n",
      "Validating:   0%|                                        | 0/20 [00:00<?, ?it/s]\u001b[A\n",
      "Epoch 6:  92%|▉| 216/234 [00:10<00:00, 20.70it/s, loss=2.04, v_num=0, valid_mae=\u001b[A\n",
      "Epoch 6:  97%|▉| 228/234 [00:10<00:00, 21.60it/s, loss=2.04, v_num=0, valid_mae=\u001b[A\n",
      "Epoch 6: 100%|█| 234/234 [00:10<00:00, 21.67it/s, loss=2.04, v_num=0, valid_mae=\u001b[A\n",
      "Epoch 7:  91%|▉| 214/234 [00:09<00:00, 21.55it/s, loss=2.06, v_num=0, valid_mae=\u001b[A\n",
      "Validating: 0it [00:00, ?it/s]\u001b[A\n",
      "Validating:   0%|                                        | 0/20 [00:00<?, ?it/s]\u001b[A\n",
      "Epoch 7:  92%|▉| 216/234 [00:10<00:00, 20.40it/s, loss=2.06, v_num=0, valid_mae=\u001b[A\n",
      "Epoch 7:  97%|▉| 228/234 [00:10<00:00, 21.31it/s, loss=2.06, v_num=0, valid_mae=\u001b[A\n",
      "Epoch 7: 100%|█| 234/234 [00:10<00:00, 21.36it/s, loss=2.06, v_num=0, valid_mae=\u001b[A\n",
      "Epoch 8:  91%|▉| 214/234 [00:10<00:01, 19.83it/s, loss=2.04, v_num=0, valid_mae=\u001b[A\n",
      "Validating: 0it [00:00, ?it/s]\u001b[A\n",
      "Validating:   0%|                                        | 0/20 [00:00<?, ?it/s]\u001b[A\n",
      "Epoch 8:  92%|▉| 216/234 [00:11<00:00, 18.67it/s, loss=2.04, v_num=0, valid_mae=\u001b[A\n",
      "Epoch 8:  97%|▉| 228/234 [00:11<00:00, 19.48it/s, loss=2.04, v_num=0, valid_mae=\u001b[A\n",
      "Epoch 8: 100%|█| 234/234 [00:11<00:00, 19.53it/s, loss=2.04, v_num=0, valid_mae=\u001b[A\n",
      "Epoch 9:  91%|▉| 214/234 [00:10<00:00, 20.46it/s, loss=2.02, v_num=0, valid_mae=\u001b[A\n",
      "Validating: 0it [00:00, ?it/s]\u001b[A\n",
      "Validating:   0%|                                        | 0/20 [00:00<?, ?it/s]\u001b[A\n",
      "Epoch 9:  92%|▉| 216/234 [00:11<00:00, 19.32it/s, loss=2.02, v_num=0, valid_mae=\u001b[A\n",
      "Epoch 9:  97%|▉| 228/234 [00:11<00:00, 20.19it/s, loss=2.02, v_num=0, valid_mae=\u001b[A\n",
      "Epoch 9: 100%|█| 234/234 [00:11<00:00, 20.26it/s, loss=2.02, v_num=0, valid_mae=\u001b[A\n",
      "Epoch 10:  91%|▉| 214/234 [00:10<00:00, 21.23it/s, loss=2.03, v_num=0, valid_mae\u001b[A\n",
      "Validating: 0it [00:00, ?it/s]\u001b[A\n",
      "Validating:   0%|                                        | 0/20 [00:00<?, ?it/s]\u001b[A\n",
      "Epoch 10:  92%|▉| 216/234 [00:10<00:00, 20.08it/s, loss=2.03, v_num=0, valid_mae\u001b[A\n",
      "Epoch 10:  97%|▉| 228/234 [00:10<00:00, 20.98it/s, loss=2.03, v_num=0, valid_mae\u001b[A\n",
      "Epoch 10: 100%|█| 234/234 [00:11<00:00, 21.04it/s, loss=2.03, v_num=0, valid_mae\u001b[A\n",
      "Epoch 11:  91%|▉| 214/234 [00:10<00:00, 20.68it/s, loss=1.98, v_num=0, valid_mae\u001b[A\n",
      "Validating: 0it [00:00, ?it/s]\u001b[A\n",
      "Validating:   0%|                                        | 0/20 [00:00<?, ?it/s]\u001b[A\n",
      "Epoch 11:  92%|▉| 216/234 [00:11<00:00, 19.61it/s, loss=1.98, v_num=0, valid_mae\u001b[A\n",
      "Epoch 11:  97%|▉| 228/234 [00:11<00:00, 20.49it/s, loss=1.98, v_num=0, valid_mae\u001b[A\n",
      "Epoch 11: 100%|█| 234/234 [00:11<00:00, 20.55it/s, loss=1.98, v_num=0, valid_mae\u001b[A\n",
      "Epoch 12:  91%|▉| 214/234 [00:10<00:00, 20.30it/s, loss=2.07, v_num=0, valid_mae\u001b[A\n",
      "Validating: 0it [00:00, ?it/s]\u001b[A\n",
      "Validating:   0%|                                        | 0/20 [00:00<?, ?it/s]\u001b[A\n",
      "Epoch 12:  92%|▉| 216/234 [00:11<00:00, 19.15it/s, loss=2.07, v_num=0, valid_mae\u001b[A\n",
      "Epoch 12:  97%|▉| 228/234 [00:11<00:00, 20.02it/s, loss=2.07, v_num=0, valid_mae\u001b[A\n",
      "Epoch 12: 100%|█| 234/234 [00:11<00:00, 20.05it/s, loss=2.07, v_num=0, valid_mae\u001b[A\n",
      "Epoch 13:  91%|▉| 214/234 [00:10<00:00, 20.23it/s, loss=1.97, v_num=0, valid_mae\u001b[A\n",
      "Validating: 0it [00:00, ?it/s]\u001b[A\n",
      "Validating:   0%|                                        | 0/20 [00:00<?, ?it/s]\u001b[A\n",
      "Epoch 13:  92%|▉| 216/234 [00:11<00:00, 19.08it/s, loss=1.97, v_num=0, valid_mae\u001b[A\n",
      "Epoch 13:  97%|▉| 228/234 [00:11<00:00, 19.91it/s, loss=1.97, v_num=0, valid_mae\u001b[A\n",
      "Epoch 13: 100%|█| 234/234 [00:11<00:00, 19.90it/s, loss=1.97, v_num=0, valid_mae\u001b[A\n",
      "Epoch 14:  91%|▉| 214/234 [00:10<00:01, 19.57it/s, loss=2.03, v_num=0, valid_mae\u001b[A\n",
      "Validating: 0it [00:00, ?it/s]\u001b[A\n",
      "Validating:   0%|                                        | 0/20 [00:00<?, ?it/s]\u001b[A\n",
      "Epoch 14:  92%|▉| 216/234 [00:11<00:00, 18.61it/s, loss=2.03, v_num=0, valid_mae\u001b[A\n",
      "Epoch 14:  97%|▉| 228/234 [00:11<00:00, 19.46it/s, loss=2.03, v_num=0, valid_mae\u001b[A\n",
      "Epoch 14: 100%|█| 234/234 [00:11<00:00, 19.55it/s, loss=2.03, v_num=0, valid_mae\u001b[A\n",
      "Epoch 15:  91%|▉| 214/234 [00:11<00:01, 19.45it/s, loss=2, v_num=0, valid_mae=0.\u001b[A\n",
      "Validating: 0it [00:00, ?it/s]\u001b[A\n",
      "Validating:   0%|                                        | 0/20 [00:00<?, ?it/s]\u001b[A\n",
      "Epoch 15:  92%|▉| 216/234 [00:11<00:00, 18.34it/s, loss=2, v_num=0, valid_mae=0.\u001b[A\n",
      "Epoch 15:  97%|▉| 228/234 [00:11<00:00, 19.13it/s, loss=2, v_num=0, valid_mae=0.\u001b[A\n",
      "Epoch 15: 100%|█| 234/234 [00:12<00:00, 19.17it/s, loss=2, v_num=0, valid_mae=0.\u001b[A\n",
      "Epoch 16:  91%|▉| 214/234 [00:10<00:01, 19.71it/s, loss=1.99, v_num=0, valid_mae\u001b[A\n",
      "Validating: 0it [00:00, ?it/s]\u001b[A\n",
      "Validating:   0%|                                        | 0/20 [00:00<?, ?it/s]\u001b[A\n",
      "Epoch 16:  92%|▉| 216/234 [00:11<00:00, 18.53it/s, loss=1.99, v_num=0, valid_mae\u001b[A\n",
      "Epoch 16:  97%|▉| 228/234 [00:11<00:00, 19.36it/s, loss=1.99, v_num=0, valid_mae\u001b[A\n",
      "Epoch 16: 100%|█| 234/234 [00:12<00:00, 19.41it/s, loss=1.99, v_num=0, valid_mae\u001b[A\n",
      "Epoch 17:  91%|▉| 214/234 [00:10<00:01, 19.67it/s, loss=1.98, v_num=0, valid_mae\u001b[A\n",
      "Validating: 0it [00:00, ?it/s]\u001b[A\n",
      "Validating:   0%|                                        | 0/20 [00:00<?, ?it/s]\u001b[A\n",
      "Epoch 17:  92%|▉| 216/234 [00:11<00:00, 18.68it/s, loss=1.98, v_num=0, valid_mae\u001b[A\n",
      "Epoch 17:  97%|▉| 228/234 [00:11<00:00, 19.48it/s, loss=1.98, v_num=0, valid_mae\u001b[A\n",
      "Epoch 17: 100%|█| 234/234 [00:11<00:00, 19.57it/s, loss=1.98, v_num=0, valid_mae\u001b[A\n",
      "Epoch 18:  91%|▉| 214/234 [00:11<00:01, 19.44it/s, loss=2.03, v_num=0, valid_mae\u001b[A\n",
      "Validating: 0it [00:00, ?it/s]\u001b[A\n",
      "Validating:   0%|                                        | 0/20 [00:00<?, ?it/s]\u001b[A\n",
      "Epoch 18:  92%|▉| 216/234 [00:11<00:00, 18.06it/s, loss=2.03, v_num=0, valid_mae\u001b[A\n",
      "Epoch 18:  97%|▉| 228/234 [00:12<00:00, 18.83it/s, loss=2.03, v_num=0, valid_mae\u001b[A\n",
      "Epoch 18: 100%|█| 234/234 [00:12<00:00, 18.90it/s, loss=2.03, v_num=0, valid_mae\u001b[A\n",
      "Epoch 19:  91%|▉| 214/234 [00:10<00:01, 19.49it/s, loss=1.96, v_num=0, valid_mae\u001b[A\n",
      "Validating: 0it [00:00, ?it/s]\u001b[A\n",
      "Validating:   0%|                                        | 0/20 [00:00<?, ?it/s]\u001b[A\n",
      "Epoch 19:  92%|▉| 216/234 [00:11<00:00, 18.21it/s, loss=1.96, v_num=0, valid_mae\u001b[A\n",
      "Epoch 19:  97%|▉| 228/234 [00:11<00:00, 19.04it/s, loss=1.96, v_num=0, valid_mae\u001b[A\n",
      "Epoch 19: 100%|█| 234/234 [00:12<00:00, 19.11it/s, loss=1.96, v_num=0, valid_mae\u001b[A\n",
      "Epoch 19: 100%|█| 234/234 [00:12<00:00, 19.06it/s, loss=1.96, v_num=0, valid_mae\u001b[A\n"
     ]
    },
    {
     "name": "stderr",
     "output_type": "stream",
     "text": [
      "4:26: E262 inline comment should start with '# '\n"
     ]
    }
   ],
   "source": [
    "trainer = pl.Trainer(\n",
    "    max_epochs=NUM_EPOCHS,\n",
    "    callbacks=callbacks,\n",
    "    accelerator=\"auto\",  # Uses GPUs or TPUs if available\n",
    "    devices=\"auto\",  # Uses all available GPUs/TPUs if applicable\n",
    "    logger=logger,\n",
    "    log_every_n_steps=1)\n",
    "\n",
    "trainer.fit(model=lightning_model, datamodule=data_module)"
   ]
  },
  {
   "cell_type": "markdown",
   "id": "355d2961",
   "metadata": {},
   "source": [
    "## Evaluating the model"
   ]
  },
  {
   "cell_type": "markdown",
   "id": "94123839",
   "metadata": {},
   "source": [
    "- After training, let's plot our training MAE and validation MAE using pandas, which, in turn, uses matplotlib for plotting (you may want to consider a [more advanced logger](https://pytorch-lightning.readthedocs.io/en/latest/extensions/logging.html) that does that for you):"
   ]
  },
  {
   "cell_type": "code",
   "execution_count": 13,
   "id": "d516a392",
   "metadata": {},
   "outputs": [
    {
     "data": {
      "text/plain": [
       "<AxesSubplot:xlabel='Epoch', ylabel='MAE'>"
      ]
     },
     "execution_count": 13,
     "metadata": {},
     "output_type": "execute_result"
    },
    {
     "data": {
      "image/png": "[encoded data removed]",
      "text/plain": [
       "<Figure size 432x288 with 1 Axes>"
      ]
     },
     "metadata": {
      "needs_background": "light"
     },
     "output_type": "display_data"
    },
    {
     "data": {
      "image/png": "[encoded data removed]",
      "text/plain": [
       "<Figure size 432x288 with 1 Axes>"
      ]
     },
     "metadata": {
      "needs_background": "light"
     },
     "output_type": "display_data"
    }
   ],
   "source": [
    "import pandas as pd\n",
    "\n",
    "\n",
    "metrics = pd.read_csv(f\"{trainer.logger.log_dir}/metrics.csv\")\n",
    "\n",
    "aggreg_metrics = []\n",
    "agg_col = \"epoch\"\n",
    "for i, dfg in metrics.groupby(agg_col):\n",
    "    agg = dict(dfg.mean())\n",
    "    agg[agg_col] = i\n",
    "    aggreg_metrics.append(agg)\n",
    "\n",
    "df_metrics = pd.DataFrame(aggreg_metrics)\n",
    "df_metrics[[\"train_loss\", \"valid_loss\"]].plot(\n",
    "    grid=True, legend=True, xlabel='Epoch', ylabel='Loss')\n",
    "df_metrics[[\"train_mae\", \"valid_mae\"]].plot(\n",
    "    grid=True, legend=True, xlabel='Epoch', ylabel='MAE')"
   ]
  },
  {
   "cell_type": "markdown",
   "id": "f96e98f1",
   "metadata": {},
   "source": [
    "- It's hard to tell what the best model (based on the lowest validation set MAE) is in this case, but no worries, the `trainer` saved this model automatically for us, we which we can load from the checkpoint via the `ckpt_path='best'` argument; below we use the `trainer` instance to evaluate the best model on the test set:"
   ]
  },
  {
   "cell_type": "code",
   "execution_count": 14,
   "id": "e0159949",
   "metadata": {},
   "outputs": [
    {
     "name": "stderr",
     "output_type": "stream",
     "text": [
      "Restoring states from the checkpoint path at logs/cnn-coral-mnist/version_0/checkpoints/epoch=19-step=4279.ckpt\n",
      "Loaded model weights from checkpoint at logs/cnn-coral-mnist/version_0/checkpoints/epoch=19-step=4279.ckpt\n"
     ]
    },
    {
     "name": "stdout",
     "output_type": "stream",
     "text": [
      "Testing:  82%|████████████████████████████      | 33/40 [00:01<00:00, 51.14it/s]--------------------------------------------------------------------------------\n",
      "DATALOADER:0 TEST RESULTS\n",
      "{'test_mae': 0.792900025844574}\n",
      "--------------------------------------------------------------------------------\n",
      "Testing: 100%|██████████████████████████████████| 40/40 [00:01<00:00, 31.35it/s]\n"
     ]
    },
    {
     "data": {
      "text/plain": [
       "[{'test_mae': 0.792900025844574}]"
      ]
     },
     "execution_count": 14,
     "metadata": {},
     "output_type": "execute_result"
    }
   ],
   "source": [
    "trainer.test(model=lightning_model, datamodule=data_module, ckpt_path='best')"
   ]
  },
  {
   "cell_type": "markdown",
   "id": "1ade31af",
   "metadata": {},
   "source": [
    "- The MAE of our model is quite good, especially compared to the 2.52 MAE baseline earlier."
   ]
  },
  {
   "cell_type": "markdown",
   "id": "316062e2",
   "metadata": {},
   "source": [
    "## Predicting labels of new data"
   ]
  },
  {
   "cell_type": "markdown",
   "id": "10f6e955",
   "metadata": {},
   "source": [
    "- You can use the `trainer.predict` method on a new `DataLoader` or `DataModule` to apply the model to new data.\n",
    "- Alternatively, you can also manually load the best model from a checkpoint as shown below:"
   ]
  },
  {
   "cell_type": "code",
   "execution_count": 16,
   "id": "6eec3c42",
   "metadata": {},
   "outputs": [],
   "source": [
    "path = f'{trainer.logger.log_dir}/checkpoints/epoch=19-step=4279.ckpt'\n",
    "\n",
    "lightning_model = LightningCNN.load_from_checkpoint(path)"
   ]
  },
  {
   "cell_type": "markdown",
   "id": "ed01f3c1",
   "metadata": {},
   "source": [
    "- Note that our `ConvNet`, which is passed to `LightningCNN` requires input arguments. However, this is automatically being taken care of since we used `self.save_hyperparameters()` in `LightningCNN`'s `__init__` method.\n",
    "- Now, below is an example applying the model manually. Here, pretend that the `test_dataloader` is a new data loader."
   ]
  },
  {
   "cell_type": "code",
   "execution_count": 17,
   "id": "89d00d90",
   "metadata": {},
   "outputs": [
    {
     "data": {
      "text/plain": [
       "tensor([6, 1, 1, 0, 5])"
      ]
     },
     "execution_count": 17,
     "metadata": {},
     "output_type": "execute_result"
    }
   ],
   "source": [
    "test_dataloader = data_module.test_dataloader()\n",
    "\n",
    "all_predicted_labels = []\n",
    "for batch in test_dataloader:\n",
    "    features, _ = batch\n",
    "    logits = lightning_model.model(features)\n",
    "    probas = torch.sigmoid(logits)\n",
    "    predicted_labels = proba_to_label(probas)\n",
    "    all_predicted_labels.append(predicted_labels)\n",
    "    \n",
    "all_predicted_labels = torch.cat(all_predicted_labels)\n",
    "all_predicted_labels[:5]"
   ]
  }
 ],
 "metadata": {
  "kernelspec": {
   "display_name": "Python 3 (ipykernel)",
   "language": "python",
   "name": "python3"
  },
  "language_info": {
   "codemirror_mode": {
    "name": "ipython",
    "version": 3
   },
   "file_extension": ".py",
   "mimetype": "text/x-python",
   "name": "python",
   "nbconvert_exporter": "python",
   "pygments_lexer": "ipython3",
   "version": "3.9.7"
  }
 },
 "nbformat": 4,
 "nbformat_minor": 5
}
