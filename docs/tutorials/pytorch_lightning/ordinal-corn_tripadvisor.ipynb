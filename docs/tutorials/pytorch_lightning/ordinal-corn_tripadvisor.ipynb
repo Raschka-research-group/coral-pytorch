{
 "cells": [
  {
   "cell_type": "code",
   "execution_count": 1,
   "id": "242de788",
   "metadata": {},
   "outputs": [
    {
     "name": "stdout",
     "output_type": "stream",
     "text": [
      "torch            : 1.10.1\n",
      "torchtext        : 0.11.2\n",
      "spacy            : 3.2.1\n",
      "pytorch_lightning: 1.5.9\n",
      "torchmetrics     : 0.7.0\n",
      "matplotlib       : 3.5.1\n",
      "\n"
     ]
    }
   ],
   "source": [
    "%load_ext watermark\n",
    "%watermark -p torch,torchtext,spacy,pytorch_lightning,torchmetrics,matplotlib"
   ]
  },
  {
   "cell_type": "code",
   "execution_count": 2,
   "id": "10f07d88",
   "metadata": {},
   "outputs": [],
   "source": [
    "#%load_ext pycodestyle_magic\n",
    "#%flake8_on --ignore W291,W293"
   ]
  },
  {
   "cell_type": "markdown",
   "id": "257ff6fb",
   "metadata": {},
   "source": [
    "<a href=\"https://pytorch.org\"><img src=\"https://raw.githubusercontent.com/pytorch/pytorch/master/docs/source/_static/img/pytorch-logo-dark.svg\" width=\"90\"/></a> &nbsp; &nbsp;&nbsp;&nbsp;<a href=\"https://www.pytorchlightning.ai\"><img src=\"https://raw.githubusercontent.com/PyTorchLightning/pytorch-lightning/master/docs/source/_static/images/logo.svg\" width=\"150\"/></a>\n",
    "\n",
    "# A Recurrent Neural Net for Ordinal Regression using CORN -- TripAdvisor Dataset"
   ]
  },
  {
   "cell_type": "markdown",
   "id": "2085dc8b",
   "metadata": {},
   "source": [
    "In this tutorial, we implement a recurrent neural network for ordinal regression based on the CORN method. To learn more about CORN, please have a look at our preprint:\n",
    "\n",
    "- Xintong Shi, Wenzhi Cao, and Sebastian Raschka (2021). Deep Neural Networks for Rank-Consistent Ordinal Regression Based On Conditional Probabilities. Arxiv preprint;  [https://arxiv.org/abs/2111.08851](https://arxiv.org/abs/2111.08851)\n",
    "\n",
    "\n",
    "We will be using a balanced version of the [TripAdvisor Hotel Review](https://www.kaggle.com/andrewmvd/trip-advisor-hotel-reviews) dataset that [we used](https://github.com/Raschka-research-group/corn-ordinal-neuralnet/blob/main/datasets/tripadvisor/tripadvisor_balanced.csv) in the CORN manuscript."
   ]
  },
  {
   "cell_type": "markdown",
   "id": "ef50c3d5",
   "metadata": {},
   "source": [
    "## General settings and hyperparameters"
   ]
  },
  {
   "cell_type": "markdown",
   "id": "00f1d07d",
   "metadata": {},
   "source": [
    "- Here, we specify some general hyperparameter values and general settings\n",
    "- Note that for small datatsets, it is not necessary and better not to use multiple workers as it can sometimes cause issues with too many open files in PyTorch. So, if you have problems with the data loader later, try setting `NUM_WORKERS = 0` instead."
   ]
  },
  {
   "cell_type": "code",
   "execution_count": 3,
   "id": "0973d647",
   "metadata": {},
   "outputs": [],
   "source": [
    "BATCH_SIZE = 256\n",
    "NUM_EPOCHS = 20\n",
    "LEARNING_RATE = 0.005\n",
    "NUM_WORKERS = 4\n",
    "RANDOM_SEED = 123\n",
    "\n",
    "## Dataset specific:\n",
    "\n",
    "NUM_CLASSES = 5\n",
    "VOCABULARY_SIZE = 5000"
   ]
  },
  {
   "cell_type": "markdown",
   "id": "47e8384e-0cf5-4abb-9331-cfbf3dcc9933",
   "metadata": {
    "tags": []
   },
   "source": [
    "## Converting a regular classifier into a CORN ordinal regression model"
   ]
  },
  {
   "cell_type": "markdown",
   "id": "502b95ce-8345-4fcc-9121-bfdd702c3d72",
   "metadata": {},
   "source": [
    "Changing a classifier to a CORN model for ordinal regression is actually really simple and only requires a few changes:\n",
    "\n",
    "**1)**\n",
    "\n",
    "Consider the following output layer used by a neural network classifier:\n",
    "\n",
    "```python\n",
    "output_layer = torch.nn.Linear(hidden_units[-1], num_classes)\n",
    "```\n",
    "\n",
    "In CORN we reduce the number of classes by 1:\n",
    "\n",
    "```python\n",
    "output_layer = torch.nn.Linear(hidden_units[-1], num_classes-1)\n",
    "```\n",
    "\n",
    "**2)** \n",
    "\n",
    "We swap the cross entropy loss from PyTorch,\n",
    "\n",
    "```python\n",
    "torch.nn.functional.cross_entropy(logits, true_labels)\n",
    "```\n",
    "\n",
    "with the CORN loss (also provided via `coral_pytorch`):\n",
    "\n",
    "```python\n",
    "loss = corn_loss(logits, true_labels,\n",
    "                 num_classes=num_classes)\n",
    "```\n",
    "\n",
    "Note that we pass `num_classes` instead of `num_classes-1` \n",
    "to the `corn_loss` as it takes care of the rest internally.\n",
    "\n",
    "\n",
    "**3)**\n",
    "\n",
    "In a regular classifier, we usually obtain the predicted class labels as follows:\n",
    "\n",
    "```python\n",
    "predicted_labels = torch.argmax(logits, dim=1)\n",
    "```\n",
    "\n",
    "In CORN, w replace this with the following code to convert the predicted probabilities into the predicted labels:\n",
    "\n",
    "```python\n",
    "predicted_labels = corn_label_from_logits(logits)\n",
    "```"
   ]
  },
  {
   "cell_type": "markdown",
   "id": "91f6669d",
   "metadata": {},
   "source": [
    "## Implementing an `RNN` using PyTorch Lightning's `LightningModule`"
   ]
  },
  {
   "cell_type": "markdown",
   "id": "8eb55dca",
   "metadata": {},
   "source": [
    "- In this section, we set up the main model architecture using the `LightningModule` from PyTorch Lightning.\n",
    "- We start with defining our recurrent neural network (`RNN`) model in pure PyTorch, and then we use it in the `LightningModule` to get all the extra benefits that PyTorch Lightning provides."
   ]
  },
  {
   "cell_type": "code",
   "execution_count": 4,
   "id": "a9036c48",
   "metadata": {},
   "outputs": [],
   "source": [
    "import torch\n",
    "\n",
    "\n",
    "# Regular PyTorch Module\n",
    "class RNN(torch.nn.Module):\n",
    "\n",
    "    def __init__(self, input_dim, embedding_dim, hidden_dim, output_dim, num_classes):\n",
    "        super().__init__()\n",
    "\n",
    "        self.embedding = torch.nn.Embedding(input_dim, embedding_dim)\n",
    "        # self.rnn = torch.nn.RNN(embedding_dim,\n",
    "        #                         hidden_dim,\n",
    "        #                         nonlinearity='relu')\n",
    "        self.rnn = torch.nn.LSTM(embedding_dim,\n",
    "                                 hidden_dim)        \n",
    "\n",
    "        # CORN output layer ------------------------------------------\n",
    "        # Regular classifier would use num_classes instead of \n",
    "        # num_classes-1 below\n",
    "        self.output_layer = torch.nn.Linear(hidden_dim, num_classes-1)\n",
    "        # ------------------------------------------------------------\n",
    "        \n",
    "        self.num_classes = num_classes\n",
    "\n",
    "    def forward(self, text, text_length):\n",
    "        # text dim: [sentence length, batch size]\n",
    "\n",
    "        embedded = self.embedding(text)\n",
    "        # embedded dim: [sentence length, batch size, embedding dim]\n",
    "\n",
    "        packed = torch.nn.utils.rnn.pack_padded_sequence(\n",
    "            embedded, text_length.to('cpu'))\n",
    "\n",
    "        packed_output, (hidden, cell) = self.rnn(embedded)\n",
    "        # output dim: [sentence length, batch size, hidden dim]\n",
    "        # hidden dim: [1, batch size, hidden dim]\n",
    "\n",
    "        hidden.squeeze_(0)\n",
    "        # hidden dim: [batch size, hidden dim]\n",
    "\n",
    "        output = self.output_layer(hidden)\n",
    "        logits = output.view(-1, (self.num_classes-1))\n",
    "\n",
    "        #probas = torch.sigmoid(logits)\n",
    "        return logits  #, probas"
   ]
  },
  {
   "cell_type": "markdown",
   "id": "33bd9214",
   "metadata": {},
   "source": [
    "- In our `LightningModule` we use loggers to track mean absolute errors for both the training and validation set during training; this allows us to select the best model based on validation set performance later.\n",
    "- Given an RNN classifier with cross-entropy loss, it is very easy to change this classifier into a ordinal regression model using CORN. In essence, it only requires three changes:\n",
    "    1. Instead of using `num_classes` in the output layer, use `num_classes-1` as shown above\n",
    "    2. Change the loss from   \n",
    "    `loss = torch.nn.functional.cross_entropy(logits, y)` to  \n",
    "    `loss = corn_loss(logits, y, num_classes=self.num_classes)`\n",
    "    3. To obtain the class/rank labels from the logits, change  \n",
    "    `predicted_labels = torch.argmax(logits, dim=1)` to  \n",
    "    `predicted_labels = corn_label_from_logits(logits)`"
   ]
  },
  {
   "cell_type": "code",
   "execution_count": 5,
   "id": "4ac4e827",
   "metadata": {},
   "outputs": [],
   "source": [
    "from coral_pytorch.losses import corn_loss\n",
    "from coral_pytorch.dataset import corn_label_from_logits\n",
    "\n",
    "import pytorch_lightning as pl\n",
    "import torchmetrics\n",
    "\n",
    "\n",
    "# LightningModule that receives a PyTorch model as input\n",
    "class LightningRNN(pl.LightningModule):\n",
    "    def __init__(self, model):\n",
    "        super().__init__()\n",
    "\n",
    "        # The inherited PyTorch module\n",
    "        self.model = model\n",
    "\n",
    "        # Save hyperparameters to the log directory\n",
    "        self.save_hyperparameters()\n",
    "\n",
    "        # Set up attributes for computing the MAE\n",
    "        self.train_mae = torchmetrics.MeanAbsoluteError()\n",
    "        self.valid_mae = torchmetrics.MeanAbsoluteError()\n",
    "        self.test_mae = torchmetrics.MeanAbsoluteError()\n",
    "        \n",
    "    # (Re)Defining the forward method is only necessary \n",
    "    # if you want to use a Trainer's .predict() method (optional)\n",
    "    def forward(self, text, text_length):\n",
    "        return self.model(text, text_length)\n",
    "        \n",
    "    # A common forward step to compute the loss and labels\n",
    "    # this is used for training, validation, and testing below\n",
    "    def _shared_step(self, batch):\n",
    "        \n",
    "        # These next 3 steps are unique and look a bit tricky due to\n",
    "        # how Torchtext's BucketIterator prepares the batches\n",
    "        # and how we use an LSTM with packed & padded text\n",
    "        # Also, .TEXT_COLUMN_NAME and .LABEL_COLUMN_NAME\n",
    "        # depend on the CSV file columns of the data file we load later.\n",
    "        features, text_length = batch.TEXT_COLUMN_NAME\n",
    "        true_labels = batch.LABEL_COLUMN_NAME\n",
    "        logits = self(features, text_length)\n",
    "\n",
    "        # Use CORN loss ---------------------------------------------------\n",
    "        # A regular classifier uses:\n",
    "        # loss = torch.nn.functional.cross_entropy(logits, true_labels)\n",
    "        loss = corn_loss(logits, true_labels,\n",
    "                         num_classes=self.model.num_classes)\n",
    "        # -----------------------------------------------------------------\n",
    "\n",
    "        # CORN logits to labels -------------------------------------------\n",
    "        # A regular classifier uses:\n",
    "        # predicted_labels = torch.argmax(logits, dim=1)\n",
    "        predicted_labels = corn_label_from_logits(logits)\n",
    "        # -----------------------------------------------------------------\n",
    "        \n",
    "        return loss, true_labels, predicted_labels\n",
    "\n",
    "    def training_step(self, batch, batch_idx):\n",
    "        loss, true_labels, predicted_labels = self._shared_step(batch)\n",
    "        self.log(\"train_loss\", loss, batch_size=true_labels.shape[0])\n",
    "        self.train_mae.update(predicted_labels, true_labels)\n",
    "        self.log(\"train_mae\", self.train_mae, on_epoch=True, on_step=False,\n",
    "                 batch_size=true_labels.shape[0])\n",
    "        return loss\n",
    "\n",
    "    def validation_step(self, batch, batch_idx):\n",
    "        loss, true_labels, predicted_labels = self._shared_step(batch)\n",
    "        self.log(\"valid_loss\", loss, batch_size=true_labels.shape[0])\n",
    "        self.valid_mae.update(predicted_labels, true_labels)\n",
    "        self.log(\"valid_mae\", self.valid_mae,\n",
    "                 on_epoch=True, on_step=False, prog_bar=True,\n",
    "                 batch_size=true_labels.shape[0])\n",
    "\n",
    "    def test_step(self, batch, batch_idx):\n",
    "        _, true_labels, predicted_labels = self._shared_step(batch)\n",
    "        self.test_mae.update(predicted_labels, true_labels)\n",
    "        self.log(\"test_mae\", self.test_mae, on_epoch=True, on_step=False,\n",
    "                 batch_size=true_labels.shape[0])\n",
    "\n",
    "    def configure_optimizers(self):\n",
    "        optimizer = torch.optim.Adam(self.parameters(), lr=LEARNING_RATE)\n",
    "        return optimizer"
   ]
  },
  {
   "cell_type": "markdown",
   "id": "c6e48c27",
   "metadata": {},
   "source": [
    "## Setting up the dataset"
   ]
  },
  {
   "cell_type": "markdown",
   "id": "4401bf5a",
   "metadata": {},
   "source": [
    "- In this section, we are going to set up our dataset."
   ]
  },
  {
   "cell_type": "markdown",
   "id": "75c6c92d",
   "metadata": {},
   "source": [
    "### Inspecting the dataset"
   ]
  },
  {
   "cell_type": "code",
   "execution_count": 6,
   "id": "46b57c6e",
   "metadata": {},
   "outputs": [
    {
     "data": {
      "text/html": [
       "<div>\n",
       "<style scoped>\n",
       "    .dataframe tbody tr th:only-of-type {\n",
       "        vertical-align: middle;\n",
       "    }\n",
       "\n",
       "    .dataframe tbody tr th {\n",
       "        vertical-align: top;\n",
       "    }\n",
       "\n",
       "    .dataframe thead th {\n",
       "        text-align: right;\n",
       "    }\n",
       "</style>\n",
       "<table border=\"1\" class=\"dataframe\">\n",
       "  <thead>\n",
       "    <tr style=\"text-align: right;\">\n",
       "      <th></th>\n",
       "      <th>TEXT_COLUMN_NAME</th>\n",
       "      <th>LABEL_COLUMN_NAME</th>\n",
       "    </tr>\n",
       "  </thead>\n",
       "  <tbody>\n",
       "    <tr>\n",
       "      <th>6995</th>\n",
       "      <td>beautiful hotel, stay punta cana majestic colo...</td>\n",
       "      <td>5</td>\n",
       "    </tr>\n",
       "    <tr>\n",
       "      <th>6996</th>\n",
       "      <td>stay, n't stay, stayed week april, weather ama...</td>\n",
       "      <td>5</td>\n",
       "    </tr>\n",
       "    <tr>\n",
       "      <th>6997</th>\n",
       "      <td>stay hotel fantastic, great location, looked n...</td>\n",
       "      <td>5</td>\n",
       "    </tr>\n",
       "    <tr>\n",
       "      <th>6998</th>\n",
       "      <td>birthday meal havnt stayed hotel staying barce...</td>\n",
       "      <td>5</td>\n",
       "    </tr>\n",
       "    <tr>\n",
       "      <th>6999</th>\n",
       "      <td>great hotel great location stayed royal magda ...</td>\n",
       "      <td>5</td>\n",
       "    </tr>\n",
       "  </tbody>\n",
       "</table>\n",
       "</div>"
      ],
      "text/plain": [
       "                                       TEXT_COLUMN_NAME  LABEL_COLUMN_NAME\n",
       "6995  beautiful hotel, stay punta cana majestic colo...                  5\n",
       "6996  stay, n't stay, stayed week april, weather ama...                  5\n",
       "6997  stay hotel fantastic, great location, looked n...                  5\n",
       "6998  birthday meal havnt stayed hotel staying barce...                  5\n",
       "6999  great hotel great location stayed royal magda ...                  5"
      ]
     },
     "execution_count": 6,
     "metadata": {},
     "output_type": "execute_result"
    }
   ],
   "source": [
    "import pandas as pd\n",
    "import numpy as np\n",
    "\n",
    "\n",
    "data_df = pd.read_csv(\"https://raw.githubusercontent.com/Raschka-research-group/\"\n",
    "                      \"corn-ordinal-neuralnet/main/datasets/tripadvisor/tripadvisor_balanced.csv\")\n",
    "\n",
    "data_df.tail()"
   ]
  },
  {
   "cell_type": "code",
   "execution_count": 7,
   "id": "ca0ecb87",
   "metadata": {},
   "outputs": [],
   "source": [
    "CSV_PATH = '../data/tripadvisor_balanced.csv'\n",
    "data_df.to_csv(CSV_PATH, index=None)"
   ]
  },
  {
   "cell_type": "code",
   "execution_count": 8,
   "id": "913c0f59",
   "metadata": {},
   "outputs": [],
   "source": [
    "import torchtext\n",
    "import random\n",
    "\n",
    "\n",
    "TEXT = torchtext.legacy.data.Field(\n",
    "    tokenize='spacy',  # default splits on whitespace\n",
    "    tokenizer_language='en_core_web_sm',\n",
    "    include_lengths=True\n",
    ")\n",
    "\n",
    "LABEL = torchtext.legacy.data.LabelField(dtype=torch.long)\n",
    "\n",
    "fields = [('TEXT_COLUMN_NAME', TEXT), ('LABEL_COLUMN_NAME', LABEL)]\n",
    "\n",
    "dataset = torchtext.legacy.data.TabularDataset(\n",
    "    path=CSV_PATH, \n",
    "    format='csv',\n",
    "    skip_header=True,\n",
    "    fields=fields)\n",
    "\n",
    "train_data, test_data = dataset.split(\n",
    "    split_ratio=[0.8, 0.2],\n",
    "    random_state=random.seed(RANDOM_SEED))\n",
    "\n",
    "train_data, valid_data = train_data.split(\n",
    "    split_ratio=[0.85, 0.15],\n",
    "    random_state=random.seed(RANDOM_SEED))\n",
    "\n",
    "TEXT.build_vocab(train_data, max_size=VOCABULARY_SIZE)\n",
    "LABEL.build_vocab(train_data)\n",
    "\n",
    "train_loader, valid_loader, test_loader=torchtext.legacy.data.BucketIterator.splits(\n",
    "        (train_data, valid_data, test_data), \n",
    "        batch_size=BATCH_SIZE,\n",
    "        sort_within_batch=True,  # necessary for packed_padded_sequence\n",
    "             sort_key=lambda x: len(x.TEXT_COLUMN_NAME),\n",
    ")"
   ]
  },
  {
   "cell_type": "code",
   "execution_count": 9,
   "id": "35ca073f",
   "metadata": {},
   "outputs": [
    {
     "name": "stdout",
     "output_type": "stream",
     "text": [
      "Training labels: tensor([0, 1, 2, 3, 4])\n",
      "Training label distribution: tensor([964, 963, 954, 953, 926])\n",
      "\n",
      "Test labels: tensor([0, 1, 2, 3, 4])\n",
      "Test label distribution: tensor([275, 267, 300, 274, 284])\n"
     ]
    }
   ],
   "source": [
    "# Checking the dataset\n",
    "all_train_labels = []\n",
    "all_test_labels = []\n",
    "\n",
    "for features, labels in train_loader:  \n",
    "    all_train_labels.append(labels)\n",
    "all_train_labels = torch.cat(all_train_labels)\n",
    "    \n",
    "for features, labels in test_loader:  \n",
    "    all_test_labels.append(labels)\n",
    "all_test_labels = torch.cat(all_test_labels)\n",
    "\n",
    "print('Training labels:', torch.unique(all_train_labels))\n",
    "print('Training label distribution:', torch.bincount(all_train_labels))\n",
    "\n",
    "print('\\nTest labels:', torch.unique(all_test_labels))\n",
    "print('Test label distribution:', torch.bincount(all_test_labels))"
   ]
  },
  {
   "cell_type": "markdown",
   "id": "e6d3171e",
   "metadata": {},
   "source": [
    "- Above, we can see that the dataset consists of 8 features, and there are 998 examples in total.\n",
    "- The labels are in range from 1 (weakest) to 5 (strongest), and we normalize them to start at zero (hence, the normalized labels are in the range 0 to 4). \n",
    "- Notice also that the dataset is quite balanced."
   ]
  },
  {
   "cell_type": "markdown",
   "id": "823164ab",
   "metadata": {},
   "source": [
    "### Performance baseline"
   ]
  },
  {
   "cell_type": "markdown",
   "id": "f35427e7",
   "metadata": {},
   "source": [
    "- Especially for imbalanced datasets, it's quite useful to compute a performance baseline.\n",
    "- In classification contexts, a useful baseline is to compute the accuracy for a scenario where the model always predicts the majority class -- you want your model to be better than that!\n",
    "- Note that if you are intersted in a single number that minimized the dataset mean squared error (MSE), that's the mean; similary, the median is a number that minimzes the mean absolute error (MAE).\n",
    "- So, if we use the mean absolute error, $\\mathrm{MAE}=\\frac{1}{N} \\sum_{i=1}^{N}\\left|y_{i}-\\hat{y}_{i}\\right|$, to evaluate the model, it is useful to compute the MAE pretending the predicted label is always the median:"
   ]
  },
  {
   "cell_type": "code",
   "execution_count": 10,
   "id": "41e84c3d",
   "metadata": {},
   "outputs": [
    {
     "name": "stdout",
     "output_type": "stream",
     "text": [
      "Baseline MAE: 1.18\n"
     ]
    }
   ],
   "source": [
    "all_test_labels = all_test_labels.float()\n",
    "avg_prediction = torch.median(all_test_labels)  # median minimizes MAE\n",
    "baseline_mae = torch.mean(torch.abs(all_test_labels - avg_prediction))\n",
    "print(f'Baseline MAE: {baseline_mae:.2f}')"
   ]
  },
  {
   "cell_type": "markdown",
   "id": "66801d12",
   "metadata": {},
   "source": [
    "- In other words, a model that would always predict the dataset median would achieve a MAE of 1.18. A model that has an MAE of > 1.18 is certainly a bad model."
   ]
  },
  {
   "cell_type": "markdown",
   "id": "9971d596",
   "metadata": {},
   "source": [
    "### Setting up a `DataModule`"
   ]
  },
  {
   "cell_type": "markdown",
   "id": "c23398a0",
   "metadata": {},
   "source": [
    "- There are three main ways we can prepare the dataset for Lightning. We can\n",
    "  1. make the dataset part of the model;\n",
    "  2. set up the data loaders as usual and feed them to the fit method of a Lightning Trainer -- the Trainer is introduced in the next subsection;\n",
    "  3. create a `LightningDataModule`.\n",
    "- Usually, approach 3 is the most organized approach. However, since we already defined our data loaders above, we can just work with those directly."
   ]
  },
  {
   "cell_type": "markdown",
   "id": "4bbe1a1e",
   "metadata": {},
   "source": [
    "- Note that the `prepare_data` method is usually used for steps that only need to be executed once, for example, downloading the dataset; the `setup` method defines the the dataset loading -- if you run your code in a distributed setting, this will be called on each node / GPU. \n",
    "- Next, lets initialize the `DataModule`; we use a random seed for reproducibility (so that the data set is shuffled the same way when we re-execute this code):"
   ]
  },
  {
   "cell_type": "markdown",
   "id": "f6023bfb",
   "metadata": {},
   "source": [
    "## Training the model using the PyTorch Lightning Trainer class"
   ]
  },
  {
   "cell_type": "markdown",
   "id": "fdb4bed0",
   "metadata": {},
   "source": [
    "- Next, we initialize our `RNN` model.\n",
    "- Also, we define a call back so that we can obtain the model with the best validation set performance after training.\n",
    "- PyTorch Lightning offers [many advanced logging services](https://pytorch-lightning.readthedocs.io/en/latest/extensions/logging.html) like Weights & Biases. Here, we will keep things simple and use the `CSVLogger`:"
   ]
  },
  {
   "cell_type": "code",
   "execution_count": 11,
   "id": "4024eff4",
   "metadata": {},
   "outputs": [],
   "source": [
    "from pytorch_lightning.callbacks import ModelCheckpoint\n",
    "from pytorch_lightning.loggers import CSVLogger\n",
    "\n",
    "\n",
    "pytorch_model = RNN(\n",
    "    input_dim=len(TEXT.vocab),\n",
    "    embedding_dim=128,\n",
    "    hidden_dim=64,\n",
    "    output_dim=32,\n",
    "    num_classes=NUM_CLASSES)\n",
    "\n",
    "lightning_model = LightningRNN(pytorch_model)\n",
    "\n",
    "callbacks = [ModelCheckpoint(\n",
    "    save_top_k=1, mode='min', monitor=\"valid_mae\")]  # save top 1 model \n",
    "logger = CSVLogger(save_dir=\"logs/\", name=\"rnn-corn-mnist\")"
   ]
  },
  {
   "cell_type": "markdown",
   "id": "f9216283",
   "metadata": {},
   "source": [
    "- Note that we disable warning as the `.log()` method of the `LightningModule` currently warns us that the batch size is inconsistent. This should not happen as we define the `batch_size` manually in the `self.log` calls. However, this will be resolved in a future version (https://github.com/PyTorchLightning/pytorch-lightning/pull/10408). \n",
    "\n",
    "- Also note that the batch size is not inconsistent, its just that the `BucketIterator` in torchtext has creates batches where the text length plus padding is the first dimension in a tensor. And the batch size is the second dimension:"
   ]
  },
  {
   "cell_type": "code",
   "execution_count": 12,
   "id": "68f32b96",
   "metadata": {},
   "outputs": [
    {
     "name": "stdout",
     "output_type": "stream",
     "text": [
      "Text length: 84\n",
      "Batch size (from text): 256\n",
      "Batch size (from labels): 256\n"
     ]
    }
   ],
   "source": [
    "for features, labels in train_loader:  \n",
    "    break\n",
    "\n",
    "print('Text length:', features[0].shape[0])\n",
    "print('Batch size (from text):', features[0].shape[1])\n",
    "print('Batch size (from labels):', labels.shape[0])"
   ]
  },
  {
   "cell_type": "code",
   "execution_count": 13,
   "id": "181e39e9",
   "metadata": {},
   "outputs": [],
   "source": [
    "import warnings\n",
    "warnings.filterwarnings('ignore')"
   ]
  },
  {
   "cell_type": "markdown",
   "id": "fa064d68",
   "metadata": {},
   "source": [
    "- Now it's time to train our model:"
   ]
  },
  {
   "cell_type": "code",
   "execution_count": 14,
   "id": "c5630f0c",
   "metadata": {},
   "outputs": [
    {
     "name": "stderr",
     "output_type": "stream",
     "text": [
      "GPU available: False, used: False\n",
      "TPU available: False, using: 0 TPU cores\n",
      "IPU available: False, using: 0 IPUs\n",
      "\n",
      "  | Name      | Type              | Params\n",
      "------------------------------------------------\n",
      "0 | model     | RNN               | 690 K \n",
      "1 | train_mae | MeanAbsoluteError | 0     \n",
      "2 | valid_mae | MeanAbsoluteError | 0     \n",
      "3 | test_mae  | MeanAbsoluteError | 0     \n",
      "------------------------------------------------\n",
      "690 K     Trainable params\n",
      "0         Non-trainable params\n",
      "690 K     Total params\n",
      "2.761     Total estimated model params size (MB)\n"
     ]
    },
    {
     "name": "stdout",
     "output_type": "stream",
     "text": [
      "Epoch 0:  87%|████████████▏ | 20/23 [01:24<00:12,  4.23s/it, loss=82.1, v_num=0]\n",
      "Validating: 0it [00:00, ?it/s]\u001b[A\n",
      "Validating:   0%|                                         | 0/4 [00:00<?, ?it/s]\u001b[A\n",
      "Epoch 0:  96%|█████████████▍| 22/23 [01:24<00:03,  3.85s/it, loss=82.1, v_num=0]\u001b[A\n",
      "Validating:  75%|████████████████████████▊        | 3/4 [00:01<00:00,  2.48it/s]\u001b[A\n",
      "Epoch 0: 100%|█| 23/23 [01:36<00:00,  4.20s/it, loss=82.1, v_num=0, valid_mae=1.\u001b[A\n",
      "Epoch 1:  87%|▊| 20/23 [01:26<00:12,  4.33s/it, loss=80.8, v_num=0, valid_mae=1.\u001b[A\n",
      "Validating: 0it [00:00, ?it/s]\u001b[A\n",
      "Validating:   0%|                                         | 0/4 [00:00<?, ?it/s]\u001b[A\n",
      "Epoch 1:  91%|▉| 21/23 [01:26<00:08,  4.13s/it, loss=80.8, v_num=0, valid_mae=1.\u001b[A\n",
      "Epoch 1:  96%|▉| 22/23 [01:26<00:03,  3.94s/it, loss=80.8, v_num=0, valid_mae=1.\u001b[A\n",
      "Epoch 1: 100%|█| 23/23 [01:27<00:00,  3.79s/it, loss=80.8, v_num=0, valid_mae=1.\u001b[A\n",
      "Epoch 1: 100%|█| 23/23 [01:31<00:00,  3.99s/it, loss=80.8, v_num=0, valid_mae=1.\u001b[A\n",
      "Epoch 2:  87%|▊| 20/23 [01:38<00:14,  4.93s/it, loss=80.9, v_num=0, valid_mae=1.\u001b[A\n",
      "Validating: 0it [00:00, ?it/s]\u001b[A\n",
      "Validating:   0%|                                         | 0/4 [00:00<?, ?it/s]\u001b[A\n",
      "Epoch 2:  91%|▉| 21/23 [01:38<00:09,  4.71s/it, loss=80.9, v_num=0, valid_mae=1.\u001b[A\n",
      "Epoch 2:  96%|▉| 22/23 [01:39<00:04,  4.51s/it, loss=80.9, v_num=0, valid_mae=1.\u001b[A\n",
      "Epoch 2: 100%|█| 23/23 [01:39<00:00,  4.34s/it, loss=80.9, v_num=0, valid_mae=1.\u001b[A\n",
      "Epoch 2: 100%|█| 23/23 [01:44<00:00,  4.54s/it, loss=80.9, v_num=0, valid_mae=1.\u001b[A\n",
      "Epoch 3:  87%|▊| 20/23 [01:19<00:11,  3.98s/it, loss=79.8, v_num=0, valid_mae=1.\u001b[A\n",
      "Validating: 0it [00:00, ?it/s]\u001b[A\n",
      "Epoch 3:  91%|▉| 21/23 [01:19<00:07,  3.80s/it, loss=79.8, v_num=0, valid_mae=1.\u001b[A\n",
      "Epoch 3:  96%|▉| 22/23 [01:19<00:03,  3.63s/it, loss=79.8, v_num=0, valid_mae=1.\u001b[A\n",
      "Epoch 3: 100%|█| 23/23 [01:20<00:00,  3.49s/it, loss=79.8, v_num=0, valid_mae=1.\u001b[A\n",
      "Epoch 3: 100%|█| 23/23 [01:24<00:00,  3.69s/it, loss=79.8, v_num=0, valid_mae=1.\u001b[A\n",
      "Epoch 4:  87%|▊| 20/23 [01:52<00:16,  5.62s/it, loss=75.3, v_num=0, valid_mae=1.\u001b[A\n",
      "Validating: 0it [00:00, ?it/s]\u001b[A\n",
      "Validating:   0%|                                         | 0/4 [00:00<?, ?it/s]\u001b[A\n",
      "Epoch 4:  91%|▉| 21/23 [01:52<00:10,  5.37s/it, loss=75.3, v_num=0, valid_mae=1.\u001b[A\n",
      "Epoch 4:  96%|▉| 22/23 [01:53<00:05,  5.16s/it, loss=75.3, v_num=0, valid_mae=1.\u001b[A\n",
      "Epoch 4: 100%|█| 23/23 [01:54<00:00,  4.99s/it, loss=75.3, v_num=0, valid_mae=1.\u001b[A\n",
      "Epoch 4: 100%|█| 23/23 [02:04<00:00,  5.41s/it, loss=75.3, v_num=0, valid_mae=1.\u001b[A\n",
      "Epoch 5:  87%|▊| 20/23 [02:29<00:22,  7.47s/it, loss=66.7, v_num=0, valid_mae=1.\u001b[A\n",
      "Validating: 0it [00:00, ?it/s]\u001b[A\n",
      "Validating:   0%|                                         | 0/4 [00:00<?, ?it/s]\u001b[A\n",
      "Epoch 5:  91%|▉| 21/23 [02:29<00:14,  7.14s/it, loss=66.7, v_num=0, valid_mae=1.\u001b[A\n",
      "Epoch 5:  96%|▉| 22/23 [02:30<00:06,  6.83s/it, loss=66.7, v_num=0, valid_mae=1.\u001b[A\n",
      "Epoch 5: 100%|█| 23/23 [02:31<00:00,  6.58s/it, loss=66.7, v_num=0, valid_mae=1.\u001b[A\n",
      "Epoch 5: 100%|█| 23/23 [02:39<00:00,  6.92s/it, loss=66.7, v_num=0, valid_mae=1.\u001b[A\n",
      "Epoch 6:  87%|▊| 20/23 [02:36<00:23,  7.83s/it, loss=62.4, v_num=0, valid_mae=1.\u001b[A\n",
      "Validating: 0it [00:00, ?it/s]\u001b[A\n",
      "Validating:   0%|                                         | 0/4 [00:00<?, ?it/s]\u001b[A\n",
      "Epoch 6:  91%|▉| 21/23 [02:36<00:14,  7.47s/it, loss=62.4, v_num=0, valid_mae=1.\u001b[A\n",
      "Epoch 6:  96%|▉| 22/23 [02:37<00:07,  7.16s/it, loss=62.4, v_num=0, valid_mae=1.\u001b[A\n",
      "Epoch 6: 100%|█| 23/23 [02:39<00:00,  6.93s/it, loss=62.4, v_num=0, valid_mae=1.\u001b[A\n",
      "Epoch 6: 100%|█| 23/23 [02:49<00:00,  7.39s/it, loss=62.4, v_num=0, valid_mae=0.\u001b[A\n",
      "Epoch 7:  87%|▊| 20/23 [02:49<00:25,  8.49s/it, loss=57, v_num=0, valid_mae=0.97\u001b[A\n",
      "Validating: 0it [00:00, ?it/s]\u001b[A\n",
      "Validating:   0%|                                         | 0/4 [00:00<?, ?it/s]\u001b[A\n",
      "Epoch 7:  91%|▉| 21/23 [02:50<00:16,  8.10s/it, loss=57, v_num=0, valid_mae=0.97\u001b[A\n",
      "Epoch 7:  96%|▉| 22/23 [02:50<00:07,  7.77s/it, loss=57, v_num=0, valid_mae=0.97\u001b[A\n",
      "Epoch 7: 100%|█| 23/23 [02:52<00:00,  7.51s/it, loss=57, v_num=0, valid_mae=0.97\u001b[A\n",
      "Epoch 7: 100%|█| 23/23 [03:01<00:00,  7.91s/it, loss=57, v_num=0, valid_mae=0.97\u001b[A\n",
      "Epoch 8:  87%|▊| 20/23 [02:23<00:21,  7.18s/it, loss=50.1, v_num=0, valid_mae=0.\u001b[A\n",
      "Validating: 0it [00:00, ?it/s]\u001b[A\n",
      "Validating:   0%|                                         | 0/4 [00:00<?, ?it/s]\u001b[A\n",
      "Epoch 8:  91%|▉| 21/23 [02:24<00:13,  6.86s/it, loss=50.1, v_num=0, valid_mae=0.\u001b[A\n",
      "Epoch 8:  96%|▉| 22/23 [02:24<00:06,  6.58s/it, loss=50.1, v_num=0, valid_mae=0.\u001b[A\n",
      "Epoch 8: 100%|█| 23/23 [02:26<00:00,  6.35s/it, loss=50.1, v_num=0, valid_mae=0.\u001b[A\n",
      "Epoch 8: 100%|█| 23/23 [02:38<00:00,  6.89s/it, loss=50.1, v_num=0, valid_mae=0.\u001b[A\n",
      "Epoch 9:  87%|▊| 20/23 [02:35<00:23,  7.75s/it, loss=45.5, v_num=0, valid_mae=0.\u001b[A\n",
      "Validating: 0it [00:00, ?it/s]\u001b[A\n",
      "Validating:   0%|                                         | 0/4 [00:00<?, ?it/s]\u001b[A\n",
      "Epoch 9:  91%|▉| 21/23 [02:35<00:14,  7.40s/it, loss=45.5, v_num=0, valid_mae=0.\u001b[A\n",
      "Epoch 9:  96%|▉| 22/23 [02:36<00:07,  7.11s/it, loss=45.5, v_num=0, valid_mae=0.\u001b[A\n",
      "Epoch 9: 100%|█| 23/23 [02:38<00:00,  6.88s/it, loss=45.5, v_num=0, valid_mae=0.\u001b[A\n",
      "Epoch 9: 100%|█| 23/23 [02:59<00:00,  7.82s/it, loss=45.5, v_num=0, valid_mae=0.\u001b[A\n",
      "Epoch 10:  87%|▊| 20/23 [02:37<00:23,  7.85s/it, loss=40.3, v_num=0, valid_mae=0\u001b[A\n",
      "Validating: 0it [00:00, ?it/s]\u001b[A\n",
      "Validating:   0%|                                         | 0/4 [00:00<?, ?it/s]\u001b[A\n",
      "Epoch 10:  91%|▉| 21/23 [02:37<00:15,  7.51s/it, loss=40.3, v_num=0, valid_mae=0\u001b[A\n",
      "Epoch 10:  96%|▉| 22/23 [02:38<00:07,  7.19s/it, loss=40.3, v_num=0, valid_mae=0\u001b[A\n",
      "Epoch 10: 100%|█| 23/23 [02:40<00:00,  6.97s/it, loss=40.3, v_num=0, valid_mae=0\u001b[A\n",
      "Epoch 10: 100%|█| 23/23 [03:04<00:00,  8.04s/it, loss=40.3, v_num=0, valid_mae=1\u001b[A\n",
      "Epoch 11:  87%|▊| 20/23 [02:22<00:21,  7.10s/it, loss=34.7, v_num=0, valid_mae=1\u001b[A\n",
      "Validating: 0it [00:00, ?it/s]\u001b[A\n",
      "Validating:   0%|                                         | 0/4 [00:00<?, ?it/s]\u001b[A\n",
      "Epoch 11:  91%|▉| 21/23 [02:22<00:13,  6.78s/it, loss=34.7, v_num=0, valid_mae=1\u001b[A\n",
      "Epoch 11:  96%|▉| 22/23 [02:23<00:06,  6.51s/it, loss=34.7, v_num=0, valid_mae=1\u001b[A\n",
      "Epoch 11: 100%|█| 23/23 [02:24<00:00,  6.30s/it, loss=34.7, v_num=0, valid_mae=1\u001b[A\n",
      "Epoch 11: 100%|█| 23/23 [02:32<00:00,  6.65s/it, loss=34.7, v_num=0, valid_mae=1\u001b[A\n",
      "Epoch 12:  87%|▊| 20/23 [02:22<00:21,  7.13s/it, loss=29.6, v_num=0, valid_mae=1\u001b[A\n",
      "Validating: 0it [00:00, ?it/s]\u001b[A\n",
      "Validating:   0%|                                         | 0/4 [00:00<?, ?it/s]\u001b[A\n",
      "Epoch 12:  91%|▉| 21/23 [02:22<00:13,  6.80s/it, loss=29.6, v_num=0, valid_mae=1\u001b[A\n",
      "Epoch 12:  96%|▉| 22/23 [02:23<00:06,  6.53s/it, loss=29.6, v_num=0, valid_mae=1\u001b[A\n",
      "Epoch 12: 100%|█| 23/23 [02:27<00:00,  6.39s/it, loss=29.6, v_num=0, valid_mae=1\u001b[A\n",
      "Epoch 12: 100%|█| 23/23 [02:38<00:00,  6.89s/it, loss=29.6, v_num=0, valid_mae=1\u001b[A\n",
      "Epoch 13:  87%|▊| 20/23 [02:18<00:20,  6.92s/it, loss=28, v_num=0, valid_mae=1.0\u001b[A\n",
      "Validating: 0it [00:00, ?it/s]\u001b[A\n",
      "Validating:   0%|                                         | 0/4 [00:00<?, ?it/s]\u001b[A\n",
      "Epoch 13:  91%|▉| 21/23 [02:18<00:13,  6.60s/it, loss=28, v_num=0, valid_mae=1.0\u001b[A\n",
      "Epoch 13:  96%|▉| 22/23 [02:19<00:06,  6.32s/it, loss=28, v_num=0, valid_mae=1.0\u001b[A\n",
      "Epoch 13: 100%|█| 23/23 [02:20<00:00,  6.10s/it, loss=28, v_num=0, valid_mae=1.0\u001b[A\n",
      "Epoch 13: 100%|█| 23/23 [02:30<00:00,  6.52s/it, loss=28, v_num=0, valid_mae=1.0\u001b[A\n",
      "Epoch 14:  87%|▊| 20/23 [02:19<00:20,  6.97s/it, loss=24, v_num=0, valid_mae=1.0\u001b[A\n",
      "Validating: 0it [00:00, ?it/s]\u001b[A\n",
      "Validating:   0%|                                         | 0/4 [00:00<?, ?it/s]\u001b[A\n",
      "Epoch 14:  91%|▉| 21/23 [02:19<00:13,  6.65s/it, loss=24, v_num=0, valid_mae=1.0\u001b[A\n",
      "Epoch 14:  96%|▉| 22/23 [02:20<00:06,  6.37s/it, loss=24, v_num=0, valid_mae=1.0\u001b[A\n",
      "Epoch 14: 100%|█| 23/23 [02:21<00:00,  6.14s/it, loss=24, v_num=0, valid_mae=1.0\u001b[A\n",
      "Epoch 14: 100%|█| 23/23 [02:31<00:00,  6.57s/it, loss=24, v_num=0, valid_mae=1.0\u001b[A\n",
      "Epoch 15:  87%|▊| 20/23 [02:17<00:20,  6.87s/it, loss=21, v_num=0, valid_mae=1.0\u001b[A\n",
      "Validating: 0it [00:00, ?it/s]\u001b[A\n",
      "Validating:   0%|                                         | 0/4 [00:00<?, ?it/s]\u001b[A\n",
      "Epoch 15:  91%|▉| 21/23 [02:17<00:13,  6.56s/it, loss=21, v_num=0, valid_mae=1.0\u001b[A\n",
      "Epoch 15:  96%|▉| 22/23 [02:18<00:06,  6.28s/it, loss=21, v_num=0, valid_mae=1.0\u001b[A\n",
      "Epoch 15: 100%|█| 23/23 [02:19<00:00,  6.05s/it, loss=21, v_num=0, valid_mae=1.0\u001b[A\n",
      "Epoch 15: 100%|█| 23/23 [02:28<00:00,  6.47s/it, loss=21, v_num=0, valid_mae=1.1\u001b[A\n",
      "Epoch 16:  87%|▊| 20/23 [02:36<00:23,  7.84s/it, loss=19.8, v_num=0, valid_mae=1\u001b[A\n",
      "Validating: 0it [00:00, ?it/s]\u001b[A\n",
      "Validating:   0%|                                         | 0/4 [00:00<?, ?it/s]\u001b[A\n",
      "Epoch 16:  91%|▉| 21/23 [02:37<00:14,  7.49s/it, loss=19.8, v_num=0, valid_mae=1\u001b[A\n",
      "Epoch 16:  96%|▉| 22/23 [02:38<00:07,  7.18s/it, loss=19.8, v_num=0, valid_mae=1\u001b[A\n",
      "Epoch 16: 100%|█| 23/23 [02:39<00:00,  6.96s/it, loss=19.8, v_num=0, valid_mae=1\u001b[A\n",
      "Epoch 16: 100%|█| 23/23 [02:54<00:00,  7.59s/it, loss=19.8, v_num=0, valid_mae=1\u001b[A\n",
      "Epoch 17:  87%|▊| 20/23 [03:20<00:30, 10.05s/it, loss=16, v_num=0, valid_mae=1.1\u001b[A\n",
      "Validating: 0it [00:00, ?it/s]\u001b[A\n",
      "Validating:   0%|                                         | 0/4 [00:00<?, ?it/s]\u001b[A\n",
      "Epoch 17:  91%|▉| 21/23 [03:21<00:19,  9.60s/it, loss=16, v_num=0, valid_mae=1.1\u001b[A\n",
      "Epoch 17:  96%|▉| 22/23 [03:22<00:09,  9.20s/it, loss=16, v_num=0, valid_mae=1.1\u001b[A\n",
      "Epoch 17: 100%|█| 23/23 [03:24<00:00,  8.89s/it, loss=16, v_num=0, valid_mae=1.1\u001b[A\n",
      "Epoch 17: 100%|█| 23/23 [03:49<00:00,  9.99s/it, loss=16, v_num=0, valid_mae=1.1\u001b[A\n",
      "Epoch 18:  87%|▊| 20/23 [03:02<00:27,  9.13s/it, loss=12, v_num=0, valid_mae=1.1\u001b[A\n",
      "Validating: 0it [00:00, ?it/s]\u001b[A\n",
      "Validating:   0%|                                         | 0/4 [00:00<?, ?it/s]\u001b[A\n",
      "Epoch 18:  91%|▉| 21/23 [03:03<00:17,  8.76s/it, loss=12, v_num=0, valid_mae=1.1\u001b[A\n",
      "Epoch 18:  96%|▉| 22/23 [03:05<00:08,  8.44s/it, loss=12, v_num=0, valid_mae=1.1\u001b[A\n",
      "Epoch 18: 100%|█| 23/23 [03:09<00:00,  8.22s/it, loss=12, v_num=0, valid_mae=1.1\u001b[A\n",
      "Epoch 18: 100%|█| 23/23 [03:21<00:00,  8.78s/it, loss=12, v_num=0, valid_mae=1.1\u001b[A\n",
      "Epoch 19:  87%|▊| 20/23 [02:10<00:19,  6.55s/it, loss=8.57, v_num=0, valid_mae=1\u001b[A\n",
      "Validating: 0it [00:00, ?it/s]\u001b[A\n",
      "Validating:   0%|                                         | 0/4 [00:00<?, ?it/s]\u001b[A\n",
      "Epoch 19:  91%|▉| 21/23 [02:11<00:12,  6.25s/it, loss=8.57, v_num=0, valid_mae=1\u001b[A\n",
      "Epoch 19:  96%|▉| 22/23 [02:11<00:05,  5.99s/it, loss=8.57, v_num=0, valid_mae=1\u001b[A\n",
      "Epoch 19: 100%|█| 23/23 [02:13<00:00,  5.79s/it, loss=8.57, v_num=0, valid_mae=1\u001b[A\n",
      "Epoch 19: 100%|█| 23/23 [02:32<00:00,  6.64s/it, loss=8.57, v_num=0, valid_mae=1\u001b[A\n",
      "Epoch 19: 100%|█| 23/23 [02:37<00:00,  6.84s/it, loss=8.57, v_num=0, valid_mae=1\u001b[A\n"
     ]
    }
   ],
   "source": [
    "trainer = pl.Trainer(\n",
    "    max_epochs=NUM_EPOCHS,\n",
    "    callbacks=callbacks,\n",
    "    accelerator=\"auto\",  # uses CPU by default or a GPU/TPU if available\n",
    "    devices=\"auto\",  # uses all available GPUs/TPUs if applicable\n",
    "    logger=logger,\n",
    "    log_every_n_steps=1)\n",
    "\n",
    "trainer.fit(model=lightning_model,\n",
    "            train_dataloaders=train_loader,\n",
    "            val_dataloaders=valid_loader)"
   ]
  },
  {
   "cell_type": "markdown",
   "id": "ec3d7ab4",
   "metadata": {},
   "source": [
    "## Evaluating the model"
   ]
  },
  {
   "cell_type": "markdown",
   "id": "08f9369b",
   "metadata": {},
   "source": [
    "- After training, let's plot our training MAE and validation MAE using pandas, which, in turn, uses matplotlib for plotting (you may want to consider a [more advanced logger](https://pytorch-lightning.readthedocs.io/en/latest/extensions/logging.html) that does that for you):"
   ]
  },
  {
   "cell_type": "code",
   "execution_count": 15,
   "id": "6431c533",
   "metadata": {},
   "outputs": [
    {
     "data": {
      "text/plain": [
       "<AxesSubplot:xlabel='Epoch', ylabel='MAE'>"
      ]
     },
     "execution_count": 15,
     "metadata": {},
     "output_type": "execute_result"
    },
    {
     "data": {
      "image/png": "[encoded data removed]",
      "text/plain": [
       "<Figure size 432x288 with 1 Axes>"
      ]
     },
     "metadata": {
      "needs_background": "light"
     },
     "output_type": "display_data"
    },
    {
     "data": {
      "image/png": "[encoded data removed]",
      "text/plain": [
       "<Figure size 432x288 with 1 Axes>"
      ]
     },
     "metadata": {
      "needs_background": "light"
     },
     "output_type": "display_data"
    }
   ],
   "source": [
    "import pandas as pd\n",
    "\n",
    "\n",
    "metrics = pd.read_csv(f\"{trainer.logger.log_dir}/metrics.csv\")\n",
    "\n",
    "aggreg_metrics = []\n",
    "agg_col = \"epoch\"\n",
    "for i, dfg in metrics.groupby(agg_col):\n",
    "    agg = dict(dfg.mean())\n",
    "    agg[agg_col] = i\n",
    "    aggreg_metrics.append(agg)\n",
    "\n",
    "df_metrics = pd.DataFrame(aggreg_metrics)\n",
    "df_metrics[[\"train_loss\", \"valid_loss\"]].plot(\n",
    "    grid=True, legend=True, xlabel='Epoch', ylabel='Loss')\n",
    "df_metrics[[\"train_mae\", \"valid_mae\"]].plot(\n",
    "    grid=True, legend=True, xlabel='Epoch', ylabel='MAE')"
   ]
  },
  {
   "cell_type": "markdown",
   "id": "1e62e69f",
   "metadata": {},
   "source": [
    "- As we can see from the loss plot above, the model starts overfitting pretty quickly. Based on the MAE plot, we can see that the best model, based on the validation set MAE, may be around epoch 8.\n",
    "- The `trainer` saved this model automatically for us, we which we can load from the checkpoint via the `ckpt_path='best'` argument; below we use the `trainer` instance to evaluate the best model on the test set:"
   ]
  },
  {
   "cell_type": "code",
   "execution_count": 16,
   "id": "a4317fee",
   "metadata": {},
   "outputs": [
    {
     "name": "stderr",
     "output_type": "stream",
     "text": [
      "Restoring states from the checkpoint path at logs/rnn-corn-mnist/version_0/checkpoints/epoch=8-step=170.ckpt\n",
      "Loaded model weights from checkpoint at logs/rnn-corn-mnist/version_0/checkpoints/epoch=8-step=170.ckpt\n"
     ]
    },
    {
     "name": "stdout",
     "output_type": "stream",
     "text": [
      "Testing: 100%|████████████████████████████████████| 6/6 [00:09<00:00,  2.49s/it]--------------------------------------------------------------------------------\n",
      "DATALOADER:0 TEST RESULTS\n",
      "{'test_mae': 0.9214285612106323}\n",
      "--------------------------------------------------------------------------------\n",
      "Testing: 100%|████████████████████████████████████| 6/6 [00:13<00:00,  2.25s/it]\n"
     ]
    },
    {
     "data": {
      "text/plain": [
       "[{'test_mae': 0.9214285612106323}]"
      ]
     },
     "execution_count": 16,
     "metadata": {},
     "output_type": "execute_result"
    }
   ],
   "source": [
    "trainer.test(model=lightning_model, dataloaders=test_loader, ckpt_path='best')"
   ]
  },
  {
   "cell_type": "markdown",
   "id": "083d298f",
   "metadata": {},
   "source": [
    "## Predicting labels of new data"
   ]
  },
  {
   "cell_type": "markdown",
   "id": "cfdc3fc0",
   "metadata": {},
   "source": [
    "- You can use the `trainer.predict` method on a new `DataLoader` or `DataModule` to apply the model to new data.\n",
    "- Alternatively, you can also manually load the best model from a checkpoint as shown below:"
   ]
  },
  {
   "cell_type": "code",
   "execution_count": 18,
   "id": "0d68ca63",
   "metadata": {},
   "outputs": [],
   "source": [
    "path = f'{trainer.logger.log_dir}/checkpoints/epoch=8-step=170.ckpt'\n",
    "\n",
    "lightning_model = LightningRNN.load_from_checkpoint(path)"
   ]
  },
  {
   "cell_type": "markdown",
   "id": "d79f3e23",
   "metadata": {},
   "source": [
    "- Note that our `RNN`, which is passed to `LightningRNN` requires input arguments. However, this is automatically being taken care of since we used `self.save_hyperparameters()` in `LightningRNN`'s `__init__` method.\n",
    "- Now, below is an example applying the model manually. Here, pretend that the `test_dataloader` is a new data loader."
   ]
  },
  {
   "cell_type": "code",
   "execution_count": 19,
   "id": "5c9d9858",
   "metadata": {},
   "outputs": [
    {
     "data": {
      "text/plain": [
       "tensor([3, 1, 1, 3, 2])"
      ]
     },
     "execution_count": 19,
     "metadata": {},
     "output_type": "execute_result"
    }
   ],
   "source": [
    "all_predicted_labels = []\n",
    "for batch in test_loader:\n",
    "    features, text_length = batch.TEXT_COLUMN_NAME\n",
    "    logits = lightning_model.model(features, text_length)\n",
    "    predicted_labels = corn_label_from_logits(logits)\n",
    "    all_predicted_labels.append(predicted_labels)\n",
    "    \n",
    "all_predicted_labels = torch.cat(all_predicted_labels)\n",
    "all_predicted_labels[:5]"
   ]
  }
 ],
 "metadata": {
  "kernelspec": {
   "display_name": "Python 3 (ipykernel)",
   "language": "python",
   "name": "python3"
  },
  "language_info": {
   "codemirror_mode": {
    "name": "ipython",
    "version": 3
   },
   "file_extension": ".py",
   "mimetype": "text/x-python",
   "name": "python",
   "nbconvert_exporter": "python",
   "pygments_lexer": "ipython3",
   "version": "3.9.7"
  }
 },
 "nbformat": 4,
 "nbformat_minor": 5
}
